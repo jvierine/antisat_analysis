{
 "cells": [
  {
   "cell_type": "code",
   "execution_count": 1,
   "id": "893e68f3",
   "metadata": {},
   "outputs": [
    {
     "name": "stdout",
     "output_type": "stream",
     "text": [
      "Using /home/danielk/git/antisat_analysis/projects/output/russian_asat as output\n"
     ]
    }
   ],
   "source": [
    "from astropy.time import Time, TimeDelta\n",
    "import h5py\n",
    "import numpy as np\n",
    "import pickle\n",
    "from pathlib import Path\n",
    "import matplotlib.pyplot as plt\n",
    "import matplotlib.patches as patches\n",
    "from matplotlib.gridspec import GridSpec\n",
    "from pprint import pprint\n",
    "# plt.style.use('dark_background')\n",
    "\n",
    "import sorts\n",
    "import pyorb\n",
    "import pyant\n",
    "\n",
    "HERE = Path('.').parent.resolve()\n",
    "OUTPUT = HERE / 'output' / 'russian_asat'\n",
    "print(f'Using {OUTPUT} as output')"
   ]
  },
  {
   "cell_type": "code",
   "execution_count": 2,
   "id": "a4d94b35",
   "metadata": {},
   "outputs": [],
   "source": [
    "with open(OUTPUT / 'paths.pickle', 'rb') as fh:\n",
    "    paths = pickle.load(fh)"
   ]
  },
  {
   "cell_type": "code",
   "execution_count": 3,
   "id": "d01a6b18",
   "metadata": {},
   "outputs": [
    {
     "name": "stdout",
     "output_type": "stream",
     "text": [
      "{'esr': [PosixPath('/home/danielk/git/antisat_analysis/projects/output/russian_asat/2021-11-19_esr_categories.npy'),\n",
      "         PosixPath('/home/danielk/git/antisat_analysis/projects/output/russian_asat/2021-11-23_esr_categories.npy'),\n",
      "         PosixPath('/home/danielk/git/antisat_analysis/projects/output/russian_asat/2021-11-25_esr_categories.npy'),\n",
      "         PosixPath('/home/danielk/git/antisat_analysis/projects/output/russian_asat/2021-11-29_esr_categories.npy')],\n",
      " 'uhf': [PosixPath('/home/danielk/git/antisat_analysis/projects/output/russian_asat/2021-11-23_uhf_categories.npy'),\n",
      "         PosixPath('/home/danielk/git/antisat_analysis/projects/output/russian_asat/2021-11-25_uhf_categories.npy'),\n",
      "         PosixPath('/home/danielk/git/antisat_analysis/projects/output/russian_asat/2021-11-29_uhf_categories.npy')]}\n"
     ]
    }
   ],
   "source": [
    "category_files = {}\n",
    "dates = {}\n",
    "for radar in paths['data_paths']:\n",
    "    category_files[radar] = []\n",
    "    dates[radar] = []\n",
    "    for ind in range(len(paths['data_paths'][radar])):\n",
    "        date = paths['data_paths'][radar][ind].stem.replace('.', '-')\n",
    "        dates[radar].append(date)\n",
    "        out_categories = OUTPUT / f'{date}_{radar}_categories.npy'\n",
    "        category_files[radar].append(out_categories)\n",
    "pprint(category_files)"
   ]
  },
  {
   "cell_type": "code",
   "execution_count": 5,
   "id": "2be5fffb",
   "metadata": {},
   "outputs": [],
   "source": [
    "save_paths = {}\n",
    "for radar in dates:\n",
    "    save_paths[radar] = []\n",
    "    for date in dates[radar]:\n",
    "        save_path = OUTPUT / f'{date}_{radar}_kosmos_stat'\n",
    "        save_path.mkdir(exist_ok=True)\n",
    "        save_paths[radar].append(save_path)"
   ]
  },
  {
   "cell_type": "code",
   "execution_count": 6,
   "id": "36eb37ee",
   "metadata": {},
   "outputs": [],
   "source": [
    "radar_title = {\n",
    "    'esr': [\n",
    "        'EISCAT Svalbard Radar 32m',\n",
    "        'EISCAT Svalbard Radar 32m',\n",
    "        'EISCAT Svalbard Radar 42m',\n",
    "        'EISCAT Svalbard Radar 42m',\n",
    "    ],\n",
    "    'uhf': ['EISCAT UHF']*3,\n",
    "}"
   ]
  },
  {
   "cell_type": "code",
   "execution_count": 12,
   "id": "a9e4ebdd",
   "metadata": {},
   "outputs": [],
   "source": [
    "def load_data(file):\n",
    "    with h5py.File(file, \"r\") as h:\n",
    "        v = h[\"v\"][()]\n",
    "        t = h[\"t\"][()]\n",
    "        r = h[\"r\"][()]    \n",
    "        snr = h[\"snr\"][()]\n",
    "        dur = h[\"dur\"][()]\n",
    "        diam = h[\"diams\"][()]\n",
    "\n",
    "    return t, r, v, snr, dur, diam\n",
    "\n",
    "def plot_statistics(data, select, radar, ind, size=(10, 8)):\n",
    "\n",
    "    t, r, v, snr, dur, diam = data\n",
    "\n",
    "    bins = int(np.round(np.sqrt(len(r))))\n",
    "\n",
    "    fig, axes = plt.subplots(2, 2, figsize=size, sharey='all')\n",
    "    \n",
    "    axes[0, 0].hist(r[select], bins=bins)\n",
    "    axes[0, 0].set_xlabel(\"Range [km]\")\n",
    "    axes[0, 0].set_ylabel(\"Detections\")\n",
    "\n",
    "    axes[0, 1].hist(v[select], bins=bins)\n",
    "    axes[0, 1].set_xlabel(\"Range-rate [km]\")\n",
    "    axes[0, 1].set_ylabel(\"Detections\")\n",
    "\n",
    "    axes[1, 0].hist(10*np.log10(snr[select]), bins=bins)\n",
    "    axes[1, 0].set_xlabel(\"SNR [dB]\")\n",
    "    axes[1, 0].set_ylabel(\"Detections\")\n",
    "\n",
    "    _diam = diam[select]\n",
    "    sel = np.logical_or(np.isinf(_diam), np.isnan(_diam))\n",
    "    sel = np.logical_not(sel)\n",
    "    _diam = _diam[sel]\n",
    "\n",
    "    axes[1, 1].hist(np.log10(_diam), bins=bins)\n",
    "    axes[1, 1].set_xlabel(\"Minimum diameter [log10(cm)]\")\n",
    "    axes[1, 1].set_ylabel(\"Detections\")\n",
    "\n",
    "    fig.suptitle(f'KOSMOS-1408 fragments {radar_title[radar][ind]} {dates[radar][ind]}')\n",
    "    fig.savefig(save_path / f'{date}_{radar}_stat.png')\n",
    "    plt.close(fig)"
   ]
  },
  {
   "cell_type": "code",
   "execution_count": 14,
   "id": "267c2ea1",
   "metadata": {},
   "outputs": [],
   "source": [
    "class Categories:\n",
    "    uncorrelated_other = 0\n",
    "    correlated_other = 1\n",
    "    uncorrelated_kosmos = 2\n",
    "    correlated_kosmos = 3\n",
    "\n",
    "def kosmos_select(select):\n",
    "    return np.logical_or(\n",
    "        select == Categories.uncorrelated_kosmos,\n",
    "        select == Categories.correlated_kosmos,\n",
    "    )"
   ]
  },
  {
   "cell_type": "code",
   "execution_count": 15,
   "id": "a32c156b",
   "metadata": {},
   "outputs": [],
   "source": [
    "radar = 'uhf'\n",
    "ind = 1\n",
    "select = np.load(category_files[radar][ind])\n",
    "data_file = paths['data_paths'][radar][ind]\n",
    "plot_statistics(load_data(data_file), kosmos_select(select), radar, ind)"
   ]
  },
  {
   "cell_type": "code",
   "execution_count": null,
   "id": "3a8319ad",
   "metadata": {},
   "outputs": [],
   "source": []
  },
  {
   "cell_type": "code",
   "execution_count": null,
   "id": "727cef2f",
   "metadata": {},
   "outputs": [],
   "source": []
  },
  {
   "cell_type": "code",
   "execution_count": null,
   "id": "ea478144",
   "metadata": {},
   "outputs": [],
   "source": []
  }
 ],
 "metadata": {
  "kernelspec": {
   "display_name": "Python 3 (ipykernel)",
   "language": "python",
   "name": "python3"
  },
  "language_info": {
   "codemirror_mode": {
    "name": "ipython",
    "version": 3
   },
   "file_extension": ".py",
   "mimetype": "text/x-python",
   "name": "python",
   "nbconvert_exporter": "python",
   "pygments_lexer": "ipython3",
   "version": "3.10.2"
  }
 },
 "nbformat": 4,
 "nbformat_minor": 5
}
