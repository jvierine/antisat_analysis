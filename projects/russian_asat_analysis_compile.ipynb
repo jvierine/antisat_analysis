{
 "cells": [
  {
   "cell_type": "markdown",
   "id": "509e61a2",
   "metadata": {},
   "source": [
    "# Compile analysis\n",
    "\n",
    "first we list all the relevant result files"
   ]
  },
  {
   "cell_type": "code",
   "execution_count": 1,
   "id": "a7d78fa9",
   "metadata": {},
   "outputs": [],
   "source": [
    "from astropy.time import Time, TimeDelta\n",
    "import h5py\n",
    "import numpy as np\n",
    "import pickle\n",
    "from pathlib import Path\n",
    "from pprint import pprint\n",
    "import matplotlib.pyplot as plt\n",
    "import matplotlib.patches as patches\n",
    "\n",
    "plt.style.use('dark_background')\n",
    "\n",
    "import sorts\n",
    "import pyorb\n",
    "import pyant"
   ]
  },
  {
   "cell_type": "code",
   "execution_count": 2,
   "id": "feb1f791",
   "metadata": {},
   "outputs": [
    {
     "name": "stdout",
     "output_type": "stream",
     "text": [
      "Using /home/danielk/git/antisat_analysis/projects/output/russian_asat as output\n"
     ]
    }
   ],
   "source": [
    "HERE = Path('.').resolve()\n",
    "OUTPUT = HERE / 'output' / 'russian_asat'\n",
    "print(f'Using {OUTPUT} as output')"
   ]
  },
  {
   "cell_type": "code",
   "execution_count": 3,
   "id": "e2d85d24",
   "metadata": {},
   "outputs": [
    {
     "name": "stdout",
     "output_type": "stream",
     "text": [
      "{'correlation_select': {'esr': [PosixPath('/home/danielk/git/antisat_analysis/projects/output/russian_asat/2021.11.19_esr_correlation_plots/eiscat_esr_selected_correlations.npy'),\n",
      "                                PosixPath('/home/danielk/git/antisat_analysis/projects/output/russian_asat/2021.11.23_esr_correlation_plots/eiscat_esr_selected_correlations.npy'),\n",
      "                                PosixPath('/home/danielk/git/antisat_analysis/projects/output/russian_asat/2021.11.25_esr_correlation_plots/eiscat_esr_selected_correlations.npy'),\n",
      "                                PosixPath('/home/danielk/git/antisat_analysis/projects/output/russian_asat/2021.11.29_esr_correlation_plots/eiscat_esr_selected_correlations.npy')],\n",
      "                        'uhf': [PosixPath('/home/danielk/git/antisat_analysis/projects/output/russian_asat/2021.11.23_uhf_correlation_plots/eiscat_uhf_selected_correlations.npy'),\n",
      "                                PosixPath('/home/danielk/git/antisat_analysis/projects/output/russian_asat/2021.11.25_uhf_correlation_plots/eiscat_uhf_selected_correlations.npy'),\n",
      "                                PosixPath('/home/danielk/git/antisat_analysis/projects/output/russian_asat/2021.11.29_uhf_correlation_plots/eiscat_uhf_selected_correlations.npy')]},\n",
      " 'correlations': {'esr': [PosixPath('/home/danielk/git/antisat_analysis/projects/output/russian_asat/2021.11.19_esr_correlation.pickle'),\n",
      "                          PosixPath('/home/danielk/git/antisat_analysis/projects/output/russian_asat/2021.11.23_esr_correlation.pickle'),\n",
      "                          PosixPath('/home/danielk/git/antisat_analysis/projects/output/russian_asat/2021.11.25_esr_correlation.pickle'),\n",
      "                          PosixPath('/home/danielk/git/antisat_analysis/projects/output/russian_asat/2021.11.29_esr_correlation.pickle')],\n",
      "                  'uhf': [PosixPath('/home/danielk/git/antisat_analysis/projects/output/russian_asat/2021.11.23_uhf_correlation.pickle'),\n",
      "                          PosixPath('/home/danielk/git/antisat_analysis/projects/output/russian_asat/2021.11.25_uhf_correlation.pickle'),\n",
      "                          PosixPath('/home/danielk/git/antisat_analysis/projects/output/russian_asat/2021.11.29_uhf_correlation.pickle')]},\n",
      " 'data_paths': {'esr': [PosixPath('/home/danielk/git/antisat_analysis/projects/output/russian_asat/esr/2021.11.19.h5'),\n",
      "                        PosixPath('/home/danielk/git/antisat_analysis/projects/output/russian_asat/esr/2021.11.23.h5'),\n",
      "                        PosixPath('/home/danielk/git/antisat_analysis/projects/output/russian_asat/esr/2021.11.25.h5'),\n",
      "                        PosixPath('/home/danielk/git/antisat_analysis/projects/output/russian_asat/esr/2021.11.29.h5')],\n",
      "                'uhf': [PosixPath('/home/danielk/git/antisat_analysis/projects/output/russian_asat/uhf/2021.11.23.h5'),\n",
      "                        PosixPath('/home/danielk/git/antisat_analysis/projects/output/russian_asat/uhf/2021.11.25.h5'),\n",
      "                        PosixPath('/home/danielk/git/antisat_analysis/projects/output/russian_asat/uhf/2021.11.29.h5')]},\n",
      " 'dates': [datetime.date(2021, 11, 19),\n",
      "           datetime.date(2021, 11, 23),\n",
      "           datetime.date(2021, 11, 25),\n",
      "           datetime.date(2021, 11, 29)],\n",
      " 'kosmos_catalogs': [PosixPath('/home/danielk/git/antisat_analysis/projects/output/russian_asat/2021_11_19_spacetrack_kosmos.tle'),\n",
      "                     PosixPath('/home/danielk/git/antisat_analysis/projects/output/russian_asat/2021_11_23_spacetrack_kosmos.tle'),\n",
      "                     PosixPath('/home/danielk/git/antisat_analysis/projects/output/russian_asat/2021_11_25_spacetrack_kosmos.tle'),\n",
      "                     PosixPath('/home/danielk/git/antisat_analysis/projects/output/russian_asat/2021_11_29_spacetrack_kosmos.tle')],\n",
      " 'kosmos_correlation_select': {'esr': [PosixPath('/home/danielk/git/antisat_analysis/projects/output/russian_asat/2021.11.19_esr_kosmos_correlation_plots/eiscat_esr_selected_correlations.npy'),\n",
      "                                       PosixPath('/home/danielk/git/antisat_analysis/projects/output/russian_asat/2021.11.23_esr_kosmos_correlation_plots/eiscat_esr_selected_correlations.npy'),\n",
      "                                       PosixPath('/home/danielk/git/antisat_analysis/projects/output/russian_asat/2021.11.25_esr_kosmos_correlation_plots/eiscat_esr_selected_correlations.npy'),\n",
      "                                       PosixPath('/home/danielk/git/antisat_analysis/projects/output/russian_asat/2021.11.29_esr_kosmos_correlation_plots/eiscat_esr_selected_correlations.npy')],\n",
      "                               'uhf': [PosixPath('/home/danielk/git/antisat_analysis/projects/output/russian_asat/2021.11.23_uhf_kosmos_correlation_plots/eiscat_uhf_selected_correlations.npy'),\n",
      "                                       PosixPath('/home/danielk/git/antisat_analysis/projects/output/russian_asat/2021.11.25_uhf_kosmos_correlation_plots/eiscat_uhf_selected_correlations.npy'),\n",
      "                                       PosixPath('/home/danielk/git/antisat_analysis/projects/output/russian_asat/2021.11.29_uhf_kosmos_correlation_plots/eiscat_uhf_selected_correlations.npy')]},\n",
      " 'kosmos_correlations': {'esr': [PosixPath('/home/danielk/git/antisat_analysis/projects/output/russian_asat/2021.11.19_esr_kosmos_correlation.pickle'),\n",
      "                                 PosixPath('/home/danielk/git/antisat_analysis/projects/output/russian_asat/2021.11.23_esr_kosmos_correlation.pickle'),\n",
      "                                 PosixPath('/home/danielk/git/antisat_analysis/projects/output/russian_asat/2021.11.25_esr_kosmos_correlation.pickle'),\n",
      "                                 PosixPath('/home/danielk/git/antisat_analysis/projects/output/russian_asat/2021.11.29_esr_kosmos_correlation.pickle')],\n",
      "                         'uhf': [PosixPath('/home/danielk/git/antisat_analysis/projects/output/russian_asat/2021.11.23_uhf_kosmos_correlation.pickle'),\n",
      "                                 PosixPath('/home/danielk/git/antisat_analysis/projects/output/russian_asat/2021.11.25_uhf_kosmos_correlation.pickle'),\n",
      "                                 PosixPath('/home/danielk/git/antisat_analysis/projects/output/russian_asat/2021.11.29_uhf_kosmos_correlation.pickle')]},\n",
      " 'tle_catalogs': [PosixPath('/home/danielk/git/antisat_analysis/projects/output/russian_asat/2021_11_19_spacetrack.tle'),\n",
      "                  PosixPath('/home/danielk/git/antisat_analysis/projects/output/russian_asat/2021_11_23_spacetrack.tle'),\n",
      "                  PosixPath('/home/danielk/git/antisat_analysis/projects/output/russian_asat/2021_11_25_spacetrack.tle'),\n",
      "                  PosixPath('/home/danielk/git/antisat_analysis/projects/output/russian_asat/2021_11_29_spacetrack.tle')]}\n"
     ]
    }
   ],
   "source": [
    "with open(OUTPUT / 'paths.pickle', 'rb') as fh:\n",
    "    paths = paths = pickle.load(fh)\n",
    "\n",
    "pprint(paths)"
   ]
  },
  {
   "cell_type": "markdown",
   "id": "c3a2c7c3",
   "metadata": {},
   "source": [
    "## Compile kosmos-1408 list\n",
    "\n",
    "first we devide the results into 4 categores:\n",
    "```\n",
    "uncorrelated results\n",
    "| - possible kosmos fragments\n",
    "| - not kosmos fragments\n",
    "correlated results\n",
    "| - kosmos fragments\n",
    "| - not kosmos fragments\n",
    "```\n",
    "\n",
    "To do this we need selection criteria for \"possible kosmos fragments\" for each campagin"
   ]
  },
  {
   "cell_type": "code",
   "execution_count": 4,
   "id": "d3e92993",
   "metadata": {},
   "outputs": [],
   "source": [
    "#Structure is (lower left corner), (upper right corner)\n",
    "kosmos_selection = {\n",
    "    'uhf': [\n",
    "        None,\n",
    "        {\n",
    "            't': (1.95, 2.6), \n",
    "            'r': (300, 700),\n",
    "            'v': (0.2, 1.2),\n",
    "        },\n",
    "        None,\n",
    "    ]\n",
    "}"
   ]
  },
  {
   "cell_type": "code",
   "execution_count": 5,
   "id": "587a7d88",
   "metadata": {},
   "outputs": [],
   "source": [
    "class Categories:\n",
    "    uncorrelated_other = 0\n",
    "    correlated_other = 1\n",
    "    uncorrelated_kosmos = 2\n",
    "    correlated_kosmos = 3\n",
    "category_names = [\n",
    "    'Uncorrelated background',\n",
    "    'Correlated background',\n",
    "    'Uncorrelated KOSMOS-1408',\n",
    "    'Correlated KOSMOS-1408',\n",
    "]"
   ]
  },
  {
   "cell_type": "markdown",
   "id": "4c7fb900",
   "metadata": {},
   "source": [
    "### Category selection\n",
    "We can then select these categories, we start by loading the relevant data"
   ]
  },
  {
   "cell_type": "code",
   "execution_count": 6,
   "id": "a2b5ab85",
   "metadata": {},
   "outputs": [],
   "source": [
    "data = {}\n",
    "with h5py.File(paths['data_paths']['uhf'][1], 'r') as hf:\n",
    "    for key in hf:\n",
    "        data[key] = hf[key][()]\n",
    "select = np.load(paths['correlation_select']['uhf'][1])\n",
    "kosmos_select = np.load(paths['kosmos_correlation_select']['uhf'][1])"
   ]
  },
  {
   "cell_type": "code",
   "execution_count": 7,
   "id": "101b9702",
   "metadata": {},
   "outputs": [],
   "source": [
    "# The category identifier\n",
    "category = np.full((len(data['t'],)), Categories.uncorrelated_other, dtype=int)"
   ]
  },
  {
   "cell_type": "code",
   "execution_count": 8,
   "id": "710541b7",
   "metadata": {},
   "outputs": [],
   "source": [
    "#get data\n",
    "t_box = kosmos_selection['uhf'][1]['t']\n",
    "r_box = kosmos_selection['uhf'][1]['r']\n",
    "v_box = kosmos_selection['uhf'][1]['v']\n",
    "\n",
    "t = (data['t'] - np.min(data['t']))/3600.0\n",
    "r = data['r']\n",
    "v = data['v']"
   ]
  },
  {
   "cell_type": "code",
   "execution_count": 9,
   "id": "78afbce0",
   "metadata": {},
   "outputs": [
    {
     "data": {
      "text/plain": [
       "<matplotlib.patches.Rectangle at 0x7f0272bb27a0>"
      ]
     },
     "execution_count": 9,
     "metadata": {},
     "output_type": "execute_result"
    },
    {
     "data": {
      "image/png": "[encoded data removed]",
      "text/plain": [
       "<Figure size 1152x576 with 2 Axes>"
      ]
     },
     "metadata": {},
     "output_type": "display_data"
    }
   ],
   "source": [
    "fig, axes = plt.subplots(2, 1, figsize=(16,8))\n",
    "axes[0].plot(t, r, '.')\n",
    "rect = patches.Rectangle(\n",
    "    (t_box[0], r_box[0]), \n",
    "    t_box[1] - t_box[0], \n",
    "    r_box[1] - r_box[0], \n",
    "    linewidth=1, \n",
    "    edgecolor='r', \n",
    "    facecolor='none',\n",
    ")\n",
    "axes[0].add_patch(rect)\n",
    "\n",
    "axes[1].plot(t, v, '.')\n",
    "rect = patches.Rectangle(\n",
    "    (t_box[0], v_box[0]), \n",
    "    t_box[1] - t_box[0], \n",
    "    v_box[1] - v_box[0], \n",
    "    linewidth=1, \n",
    "    edgecolor='r', \n",
    "    facecolor='none',\n",
    ")\n",
    "axes[1].add_patch(rect)"
   ]
  },
  {
   "cell_type": "code",
   "execution_count": 10,
   "id": "dd764a8b",
   "metadata": {},
   "outputs": [],
   "source": [
    "box_selector = np.logical_and.reduce([\n",
    "    t >= t_box[0], \n",
    "    t <= t_box[1],\n",
    "    r >= r_box[0], \n",
    "    r <= r_box[1],\n",
    "    v >= v_box[0], \n",
    "    v <= v_box[1],\n",
    "])"
   ]
  },
  {
   "cell_type": "markdown",
   "id": "ec7091ec",
   "metadata": {},
   "source": [
    "### Assign categories"
   ]
  },
  {
   "cell_type": "code",
   "execution_count": 11,
   "id": "21c0650c",
   "metadata": {},
   "outputs": [],
   "source": [
    "category[:] = Categories.uncorrelated_other\n",
    "category[box_selector] = Categories.uncorrelated_kosmos\n",
    "category[select] = Categories.correlated_other\n",
    "category[kosmos_select] = Categories.correlated_kosmos"
   ]
  },
  {
   "cell_type": "code",
   "execution_count": 12,
   "id": "50e99bab",
   "metadata": {},
   "outputs": [
    {
     "name": "stdout",
     "output_type": "stream",
     "text": [
      "[1 1 1 1 1 1 0 1 0 1 1 0 0 0 1 1 0 1 1 1 1 1 1 1 1 1 1 1 1 1 1 0 0 1 1 1 0\n",
      " 0 1 1 0 1 1 1 0 1 1 1 1 0 0 0 0 1 1 0 1 1 0 1 1 0 0 1 1 0 0 0 1 1 1 1 0 1\n",
      " 1 0 1 1 0 1 1 1 1 0 1 1 1 1 0 0 1 0 1 1 1 0 1 1 1 1 1 1 1 1 1 1 1 0 0 1 0\n",
      " 1 1 0 1 1 1 0 1 1 0 0 0 0 1 1 0 0 1 1 1 1 1 1 0 0 2 0 1 2 1 0 0 1 0 0 1 1\n",
      " 1 1 0 1 0 3 2 0 1 1 2 1 0 0 0 3 1 1 1 0 2 2 1 2 1 1 0 1 2 0 0 2 0 0 2 1 1\n",
      " 1 2 2 2 0 1 2 2 2 2 2 1 2 2 1 2 1 2 2 2 0 2 2 2 2 2 2 1 0 2 0 2 2 0 2 2 2\n",
      " 2 2 2 0 2 2 2 2 2 2 2 2 2 2 2 0 2 1 2 2 0 2 2 2 2 3 2 2 2 1 2 2 2 2 0 2 2\n",
      " 1 2 0 1 2 0 2 3 2 2 2 2 0 2 2 2 0 2 2 2 2 0 0 2 0 1 0 0 0 0 1 3 0 1 0 0 0\n",
      " 1 0 1 1 0 1 0 1 0 0 1 1 0 0 1 1 1 0 0 1 1 1 1 1 1 1 1 1 0 1 0 1 0 1 1 0 0\n",
      " 0 1 1 1 1 1 1 1 1 1 0 1 1 0 1 0 0 1 0 1 1 1 1 1 1 0 1 1 0 1 1 1 1 1 1 0 1\n",
      " 1 1 1 1 0 1 0 1 1 1 1 1 1 0 1 0 1 0 0 0 0 0 1 1 1 1 1 1 1 1 0 1 1 0 1 0 1\n",
      " 1 1 0 0 0 1 0 1 1 1 0 0 1 0 1 0 1 1 0 1 0 1 1 0 1 1 1 0 1 0 0 1 1 1 0 1 1\n",
      " 0 0 1 0 0 0 1 0 1 0 1 1 1 1 1 1 0 1 1 1 1 0 0 1 1 1 0 1 1 0 0 1 1 0 1 1 0\n",
      " 1 1 1 0 0 1 0 0 0 0 1 1 1 1 0 1 1 0 1 0 0 1 1 0 1 0 1 0 1 0 0 0 1 1 1 0 0\n",
      " 0 0 1 0 0 1 0 1 1 0 1 1 1 1 0 1 1 0 1 0 0 0 0 1 1 0 0 1 1 1 0 0 0 0 1 1 1\n",
      " 0 1 1 0 0 0 0 1 0 1 1 1 1 0 1 1 0 0 1 1 0 1 0 0 1 0 0 0 0 0 0 1 1 1 0 1 0\n",
      " 0 0 1 1 1 1]\n"
     ]
    }
   ],
   "source": [
    "print(category)"
   ]
  },
  {
   "cell_type": "code",
   "execution_count": 14,
   "id": "aa711000",
   "metadata": {},
   "outputs": [
    {
     "data": {
      "text/plain": [
       "Text(0, 0.5, 'Detections')"
      ]
     },
     "execution_count": 14,
     "metadata": {},
     "output_type": "execute_result"
    },
    {
     "data": {
      "image/png": "[encoded data removed]",
      "text/plain": [
       "<Figure size 1152x576 with 1 Axes>"
      ]
     },
     "metadata": {},
     "output_type": "display_data"
    }
   ],
   "source": [
    "fig, ax = plt.subplots(figsize=(16,8))\n",
    "ax.bar(range(4), [np.sum(category == ind) for ind in range(4)])\n",
    "ax.set_xticks(range(4), labels=category_names)\n",
    "ax.set_ylabel('Detections')"
   ]
  },
  {
   "cell_type": "code",
   "execution_count": 16,
   "id": "6f0e87e7",
   "metadata": {},
   "outputs": [],
   "source": [
    "out_categories = OUTPUT / (str(paths['dates'][1]) + '_uhf' + '_categories.npy')\n",
    "np.save(out_categories, category)"
   ]
  },
  {
   "cell_type": "code",
   "execution_count": null,
   "id": "2cacc58c",
   "metadata": {},
   "outputs": [],
   "source": []
  }
 ],
 "metadata": {
  "kernelspec": {
   "display_name": "Python 3 (ipykernel)",
   "language": "python",
   "name": "python3"
  },
  "language_info": {
   "codemirror_mode": {
    "name": "ipython",
    "version": 3
   },
   "file_extension": ".py",
   "mimetype": "text/x-python",
   "name": "python",
   "nbconvert_exporter": "python",
   "pygments_lexer": "ipython3",
   "version": "3.10.2"
  }
 },
 "nbformat": 4,
 "nbformat_minor": 5
}
