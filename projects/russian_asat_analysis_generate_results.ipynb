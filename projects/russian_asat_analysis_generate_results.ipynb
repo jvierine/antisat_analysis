{
 "cells": [
  {
   "cell_type": "markdown",
   "id": "1b56edf3",
   "metadata": {},
   "source": [
    "# This file details the step by step analysis of the russian asat"
   ]
  },
  {
   "cell_type": "code",
   "execution_count": 1,
   "id": "12dc88e2",
   "metadata": {},
   "outputs": [
    {
     "name": "stdout",
     "output_type": "stream",
     "text": [
      "Using /home/danielk/git/antisat_analysis/projects/output/russian_asat as output\n"
     ]
    }
   ],
   "source": [
    "from pathlib import Path\n",
    "HERE = Path('.').resolve()\n",
    "OUTPUT = HERE / 'output' / 'russian_asat'\n",
    "OUTPUT.mkdir(exist_ok=True)\n",
    "print(f'Using {OUTPUT} as output')"
   ]
  },
  {
   "cell_type": "code",
   "execution_count": 2,
   "id": "272a572b",
   "metadata": {},
   "outputs": [
    {
     "name": "stdout",
     "output_type": "stream",
     "text": [
      "Adding /home/danielk/git/antisat_analysis to path\n"
     ]
    }
   ],
   "source": [
    "import sys\n",
    "print(f'Adding {str(HERE.parent)} to path')\n",
    "sys.path.append(str(HERE.parent))"
   ]
  },
  {
   "cell_type": "code",
   "execution_count": 3,
   "id": "9fd10358",
   "metadata": {},
   "outputs": [],
   "source": [
    "spade_data_paths = {\n",
    "    'uhf': [\n",
    "        '/home/danielk/data/spade/beamparks/uhf/2021.11.23',\n",
    "        '/home/danielk/data/spade/beamparks/uhf/2021.11.25',\n",
    "        '/home/danielk/data/spade/beamparks/uhf/2021.11.29',\n",
    "    ],\n",
    "    'esr': [\n",
    "        '/home/danielk/data/spade/beamparks/esr/2021.11.19',\n",
    "        '/home/danielk/data/spade/beamparks/esr/2021.11.23',\n",
    "        '/home/danielk/data/spade/beamparks/esr/2021.11.25',\n",
    "        '/home/danielk/data/spade/beamparks/esr/2021.11.29',\n",
    "    ]\n",
    "}\n",
    "\n",
    "data_paths = {}\n",
    "for key in spade_data_paths:\n",
    "    data_paths[key] = []\n",
    "    for pth in spade_data_paths[key]:\n",
    "        data_paths[key].append(OUTPUT / key / (Path(pth).name + '.h5'))"
   ]
  },
  {
   "cell_type": "markdown",
   "id": "3cb91cc4",
   "metadata": {},
   "source": [
    "## Convert event.txt to h5"
   ]
  },
  {
   "cell_type": "code",
   "execution_count": 4,
   "id": "a47232c9",
   "metadata": {
    "scrolled": true
   },
   "outputs": [
    {
     "name": "stdout",
     "output_type": "stream",
     "text": [
      "/home/danielk/git/antisat_analysis/projects/output/russian_asat/uhf/2021.11.23.h5 exsists, skipping...\n",
      "/home/danielk/git/antisat_analysis/projects/output/russian_asat/uhf/2021.11.25.h5 exsists, skipping...\n",
      "/home/danielk/git/antisat_analysis/projects/output/russian_asat/uhf/2021.11.29.h5 exsists, skipping...\n",
      "/home/danielk/git/antisat_analysis/projects/output/russian_asat/esr/2021.11.19.h5 exsists, skipping...\n",
      "/home/danielk/git/antisat_analysis/projects/output/russian_asat/esr/2021.11.23.h5 exsists, skipping...\n",
      "/home/danielk/git/antisat_analysis/projects/output/russian_asat/esr/2021.11.25.h5 exsists, skipping...\n",
      "/home/danielk/git/antisat_analysis/projects/output/russian_asat/esr/2021.11.29.h5 exsists, skipping...\n"
     ]
    }
   ],
   "source": [
    "from convert_spade_events_to_h5 import main as conv_main\n",
    "\n",
    "for key in spade_data_paths:\n",
    "    for pth, out in zip(spade_data_paths[key], data_paths[key]):\n",
    "\n",
    "        pth = Path(pth).resolve()\n",
    "        if not out.parent.is_dir():\n",
    "            out.parent.mkdir(parents=True, exist_ok=True)\n",
    "        if not out.is_file():\n",
    "            cmd = f'{str(pth)} {str(out)}'\n",
    "            print(f'Running {cmd}')\n",
    "            conv_main(cmd.split())\n",
    "        else:\n",
    "            print(f'{out} exsists, skipping...')\n"
   ]
  },
  {
   "cell_type": "code",
   "execution_count": 5,
   "id": "e1f0e535",
   "metadata": {},
   "outputs": [],
   "source": [
    "from astropy.time import Time, TimeDelta\n",
    "import h5py\n",
    "import numpy as np\n",
    "\n",
    "# Determine dates of files\n",
    "dates = []\n",
    "dates_keyed = {}\n",
    "for key in data_paths:\n",
    "    dates_keyed[key] = []\n",
    "    for pth in data_paths[key]:\n",
    "        with h5py.File(pth, 'r') as hf:\n",
    "            epoch = Time(np.min(hf['t']), format='unix', scale='utc')\n",
    "            dates.append(epoch.datetime.date())\n",
    "            dates_keyed[key].append(epoch.datetime.date())\n",
    "\n",
    "dates = np.unique(dates).tolist()"
   ]
  },
  {
   "cell_type": "code",
   "execution_count": 6,
   "id": "9472c997",
   "metadata": {},
   "outputs": [
    {
     "name": "stdout",
     "output_type": "stream",
     "text": [
      "2021-11-19\n",
      "2021-11-23\n",
      "2021-11-25\n",
      "2021-11-29\n"
     ]
    }
   ],
   "source": [
    "for dt in dates:\n",
    "    print(dt.strftime('%Y-%m-%d'))"
   ]
  },
  {
   "cell_type": "markdown",
   "id": "0c4c891b",
   "metadata": {},
   "source": [
    "## Download spacetrack catalog\n",
    "\n",
    "Run the commands generate below to get the appropriate catalogs"
   ]
  },
  {
   "cell_type": "code",
   "execution_count": 7,
   "id": "0942e062",
   "metadata": {},
   "outputs": [
    {
     "name": "stdout",
     "output_type": "stream",
     "text": [
      "./space_track_download.py 24h 2021-11-19 /home/danielk/git/antisat_analysis/projects/output/russian_asat/2021_11_19_spacetrack.tle -k space-track\n",
      "./space_track_download.py 24h 2021-11-23 /home/danielk/git/antisat_analysis/projects/output/russian_asat/2021_11_23_spacetrack.tle -k space-track\n",
      "./space_track_download.py 24h 2021-11-25 /home/danielk/git/antisat_analysis/projects/output/russian_asat/2021_11_25_spacetrack.tle -k space-track\n",
      "./space_track_download.py 24h 2021-11-29 /home/danielk/git/antisat_analysis/projects/output/russian_asat/2021_11_29_spacetrack.tle -k space-track\n"
     ]
    }
   ],
   "source": [
    "# Set this to None if you dont want to use a secret-tool to get credentials\n",
    "#  they need to be stored under the \"password\" and \"username\" attributes\n",
    "secret_tool_key = 'space-track'\n",
    "\n",
    "catalog_commands = []\n",
    "tle_catalogs = []\n",
    "for dt in dates:\n",
    "    dt_str = dt.strftime('%Y-%m-%d')\n",
    "    \n",
    "    out_tle = OUTPUT / f'{dt_str.replace(\"-\",\"_\")}_spacetrack.tle'\n",
    "    tle_catalogs.append(out_tle)\n",
    "    \n",
    "    cmd = f'./space_track_download.py 24h {dt_str} {str(out_tle)}'\n",
    "    if secret_tool_key is not None:\n",
    "        cmd += f' -k {secret_tool_key}'\n",
    "    \n",
    "    print(cmd)\n",
    "    catalog_commands.append(cmd)"
   ]
  },
  {
   "cell_type": "code",
   "execution_count": 8,
   "id": "601a7d96",
   "metadata": {},
   "outputs": [
    {
     "name": "stdout",
     "output_type": "stream",
     "text": [
      "/home/danielk/git/antisat_analysis/projects/output/russian_asat/2021_11_19_spacetrack.tle exists...\n",
      "/home/danielk/git/antisat_analysis/projects/output/russian_asat/2021_11_23_spacetrack.tle exists...\n",
      "/home/danielk/git/antisat_analysis/projects/output/russian_asat/2021_11_25_spacetrack.tle exists...\n",
      "/home/danielk/git/antisat_analysis/projects/output/russian_asat/2021_11_29_spacetrack.tle exists...\n"
     ]
    }
   ],
   "source": [
    "#Verify that catalogs exist\n",
    "for pth in tle_catalogs:\n",
    "    assert pth.is_file(), f'{pth} does not exist'\n",
    "    print(f'{pth} exists...')"
   ]
  },
  {
   "cell_type": "markdown",
   "id": "e58de80b",
   "metadata": {},
   "source": [
    "## Correlate measurnments\n",
    "\n",
    "### Calculate correlations\n",
    "\n",
    "Choose number of cores to run on"
   ]
  },
  {
   "cell_type": "code",
   "execution_count": 15,
   "id": "6ef43323",
   "metadata": {},
   "outputs": [],
   "source": [
    "cores = 6\n",
    "override = False\n",
    "jitter = True\n",
    "r_scaling = 1.0\n",
    "dr_scaling = 0.2\n",
    "save_states = False"
   ]
  },
  {
   "cell_type": "code",
   "execution_count": 18,
   "id": "7bd3ebd9",
   "metadata": {},
   "outputs": [
    {
     "name": "stdout",
     "output_type": "stream",
     "text": [
      "mpirun -n 6 ./beampark_correlator.py eiscat_uhf /home/danielk/git/antisat_analysis/projects/output/russian_asat/2021_11_23_spacetrack.tle /home/danielk/git/antisat_analysis/projects/output/russian_asat/uhf/2021.11.23.h5 /home/danielk/git/antisat_analysis/projects/output/russian_asat/2021.11.23_uhf_correlation.pickle  --jitter --range-scaling 1.0 --range-rate-scaling 0.2  -c\n",
      "\n",
      "mpirun -n 6 ./beampark_correlator.py eiscat_uhf /home/danielk/git/antisat_analysis/projects/output/russian_asat/2021_11_25_spacetrack.tle /home/danielk/git/antisat_analysis/projects/output/russian_asat/uhf/2021.11.25.h5 /home/danielk/git/antisat_analysis/projects/output/russian_asat/2021.11.25_uhf_correlation.pickle  --jitter --range-scaling 1.0 --range-rate-scaling 0.2  -c\n",
      "\n",
      "mpirun -n 6 ./beampark_correlator.py eiscat_uhf /home/danielk/git/antisat_analysis/projects/output/russian_asat/2021_11_29_spacetrack.tle /home/danielk/git/antisat_analysis/projects/output/russian_asat/uhf/2021.11.29.h5 /home/danielk/git/antisat_analysis/projects/output/russian_asat/2021.11.29_uhf_correlation.pickle  --jitter --range-scaling 1.0 --range-rate-scaling 0.2  -c\n",
      "\n",
      "mpirun -n 6 ./beampark_correlator.py eiscat_esr /home/danielk/git/antisat_analysis/projects/output/russian_asat/2021_11_19_spacetrack.tle /home/danielk/git/antisat_analysis/projects/output/russian_asat/esr/2021.11.19.h5 /home/danielk/git/antisat_analysis/projects/output/russian_asat/2021.11.19_esr_correlation.pickle  --jitter --range-scaling 1.0 --range-rate-scaling 0.2  -c\n",
      "\n",
      "mpirun -n 6 ./beampark_correlator.py eiscat_esr /home/danielk/git/antisat_analysis/projects/output/russian_asat/2021_11_23_spacetrack.tle /home/danielk/git/antisat_analysis/projects/output/russian_asat/esr/2021.11.23.h5 /home/danielk/git/antisat_analysis/projects/output/russian_asat/2021.11.23_esr_correlation.pickle  --jitter --range-scaling 1.0 --range-rate-scaling 0.2  -c\n",
      "\n",
      "mpirun -n 6 ./beampark_correlator.py eiscat_esr /home/danielk/git/antisat_analysis/projects/output/russian_asat/2021_11_25_spacetrack.tle /home/danielk/git/antisat_analysis/projects/output/russian_asat/esr/2021.11.25.h5 /home/danielk/git/antisat_analysis/projects/output/russian_asat/2021.11.25_esr_correlation.pickle  --jitter --range-scaling 1.0 --range-rate-scaling 0.2  -c\n",
      "\n",
      "mpirun -n 6 ./beampark_correlator.py eiscat_esr /home/danielk/git/antisat_analysis/projects/output/russian_asat/2021_11_29_spacetrack.tle /home/danielk/git/antisat_analysis/projects/output/russian_asat/esr/2021.11.29.h5 /home/danielk/git/antisat_analysis/projects/output/russian_asat/2021.11.29_esr_correlation.pickle  --jitter --range-scaling 1.0 --range-rate-scaling 0.2  -c\n",
      "\n"
     ]
    }
   ],
   "source": [
    "correlate_commands = []\n",
    "\n",
    "override_cm = '-c' if override else ''\n",
    "jitter_cm = '--jitter' if jitter else '' --save-states\n",
    "save_states_cm = '--save-states' if save_states else '' \n",
    "r_scaling_cm = f'--range-scaling {r_scaling}'\n",
    "dr_scaling_cm = f'--range-rate-scaling {dr_scaling}'\n",
    "\n",
    "correlations = {}\n",
    "for key in data_paths:\n",
    "    correlations[key] = []\n",
    "    for pth, dt in zip(data_paths[key], dates_keyed[key]):\n",
    "        tle_file = tle_catalogs[dates.index(dt)]\n",
    "        out_file = OUTPUT / (pth.stem + f'_{key}_correlation.pickle')\n",
    "        \n",
    "        correlations[key].append(out_file)\n",
    "        \n",
    "        cmd = f'mpirun -n {cores} ./beampark_correlator.py eiscat_{key} '\n",
    "        cmd += f'{str(tle_file)} {str(pth)} {str(out_file)} {override_cm} '\n",
    "        cmd += f'{jitter_cm} {r_scaling_cm} {dr_scaling_cm} {save_states_cm} -c'\n",
    "        print(cmd + '\\n')\n",
    "        correlate_commands.append(cmd)\n",
    "\n"
   ]
  },
  {
   "cell_type": "code",
   "execution_count": 50,
   "id": "73e6857e",
   "metadata": {},
   "outputs": [
    {
     "name": "stdout",
     "output_type": "stream",
     "text": [
      "/home/danielk/git/antisat_analysis/projects/output/russian_asat/2021.11.23_uhf_correlation.pickle exists...\n",
      "/home/danielk/git/antisat_analysis/projects/output/russian_asat/2021.11.25_uhf_correlation.pickle exists...\n",
      "/home/danielk/git/antisat_analysis/projects/output/russian_asat/2021.11.29_uhf_correlation.pickle exists...\n",
      "/home/danielk/git/antisat_analysis/projects/output/russian_asat/2021.11.19_esr_correlation.pickle exists...\n",
      "/home/danielk/git/antisat_analysis/projects/output/russian_asat/2021.11.23_esr_correlation.pickle exists...\n",
      "/home/danielk/git/antisat_analysis/projects/output/russian_asat/2021.11.25_esr_correlation.pickle exists...\n",
      "/home/danielk/git/antisat_analysis/projects/output/russian_asat/2021.11.29_esr_correlation.pickle exists...\n"
     ]
    }
   ],
   "source": [
    "#Verify that catalogs exist\n",
    "for key in correlations:\n",
    "    for pth in correlations[key]:\n",
    "        assert pth.is_file(), f'{pth} does not exist'\n",
    "        print(f'{pth} exists...')"
   ]
  },
  {
   "cell_type": "markdown",
   "id": "09e6c813",
   "metadata": {},
   "source": [
    "### Analyse correalations\n",
    "\n",
    "Set `threshold` to `None` to auto determine threshold. The unit of threshold is determined by the scaling that is applied to range in meter and range rate in meters per second."
   ]
  },
  {
   "cell_type": "code",
   "execution_count": 62,
   "id": "6cd45801",
   "metadata": {},
   "outputs": [],
   "source": [
    "threshold = None #1.0e3"
   ]
  },
  {
   "cell_type": "code",
   "execution_count": 63,
   "id": "6693f812",
   "metadata": {},
   "outputs": [
    {
     "name": "stdout",
     "output_type": "stream",
     "text": [
      "./beampark_correlation_analysis.py --output /home/danielk/git/antisat_analysis/projects/output/russian_asat/2021.11.23_uhf_correlation_plots  --range-scaling 1.0 --range-rate-scaling 0.2 /home/danielk/git/antisat_analysis/projects/output/russian_asat/2021.11.23_uhf_correlation.pickle /home/danielk/git/antisat_analysis/projects/output/russian_asat/uhf/2021.11.23.h5\n",
      "\n",
      "./beampark_correlation_analysis.py --output /home/danielk/git/antisat_analysis/projects/output/russian_asat/2021.11.25_uhf_correlation_plots  --range-scaling 1.0 --range-rate-scaling 0.2 /home/danielk/git/antisat_analysis/projects/output/russian_asat/2021.11.25_uhf_correlation.pickle /home/danielk/git/antisat_analysis/projects/output/russian_asat/uhf/2021.11.25.h5\n",
      "\n",
      "./beampark_correlation_analysis.py --output /home/danielk/git/antisat_analysis/projects/output/russian_asat/2021.11.29_uhf_correlation_plots  --range-scaling 1.0 --range-rate-scaling 0.2 /home/danielk/git/antisat_analysis/projects/output/russian_asat/2021.11.29_uhf_correlation.pickle /home/danielk/git/antisat_analysis/projects/output/russian_asat/uhf/2021.11.29.h5\n",
      "\n",
      "./beampark_correlation_analysis.py --output /home/danielk/git/antisat_analysis/projects/output/russian_asat/2021.11.19_esr_correlation_plots  --range-scaling 1.0 --range-rate-scaling 0.2 /home/danielk/git/antisat_analysis/projects/output/russian_asat/2021.11.19_esr_correlation.pickle /home/danielk/git/antisat_analysis/projects/output/russian_asat/esr/2021.11.19.h5\n",
      "\n",
      "./beampark_correlation_analysis.py --output /home/danielk/git/antisat_analysis/projects/output/russian_asat/2021.11.23_esr_correlation_plots  --range-scaling 1.0 --range-rate-scaling 0.2 /home/danielk/git/antisat_analysis/projects/output/russian_asat/2021.11.23_esr_correlation.pickle /home/danielk/git/antisat_analysis/projects/output/russian_asat/esr/2021.11.23.h5\n",
      "\n",
      "./beampark_correlation_analysis.py --output /home/danielk/git/antisat_analysis/projects/output/russian_asat/2021.11.25_esr_correlation_plots  --range-scaling 1.0 --range-rate-scaling 0.2 /home/danielk/git/antisat_analysis/projects/output/russian_asat/2021.11.25_esr_correlation.pickle /home/danielk/git/antisat_analysis/projects/output/russian_asat/esr/2021.11.25.h5\n",
      "\n",
      "./beampark_correlation_analysis.py --output /home/danielk/git/antisat_analysis/projects/output/russian_asat/2021.11.29_esr_correlation_plots  --range-scaling 1.0 --range-rate-scaling 0.2 /home/danielk/git/antisat_analysis/projects/output/russian_asat/2021.11.29_esr_correlation.pickle /home/danielk/git/antisat_analysis/projects/output/russian_asat/esr/2021.11.29.h5\n",
      "\n"
     ]
    }
   ],
   "source": [
    "correlation_analysis_cmds = []\n",
    "\n",
    "threshold_cm = '' if threshold is None else f'--threshold {threshold}'\n",
    "\n",
    "correlation_select = {}\n",
    "for key in data_paths:\n",
    "    correlation_select[key] = []\n",
    "    for pth, cor in zip(data_paths[key], correlations[key]):\n",
    "        out_folder = OUTPUT / (pth.stem + f'_{key}_correlation_plots')\n",
    "        \n",
    "        correlation_select[key].append(out_folder)\n",
    "        \n",
    "        cmd = f'./beampark_correlation_analysis.py --output {out_folder} '\n",
    "        cmd += f'{threshold_cm} {r_scaling_cm} {dr_scaling_cm} '\n",
    "        cmd += f'{cor} {pth}'\n",
    "        \n",
    "        print(cmd + '\\n')\n",
    "        correlation_analysis_cmds.append(cmd)\n"
   ]
  },
  {
   "cell_type": "code",
   "execution_count": 64,
   "id": "fda18e7f",
   "metadata": {},
   "outputs": [
    {
     "name": "stdout",
     "output_type": "stream",
     "text": [
      "./beampark_correlation_analysis.py --output /home/danielk/git/antisat_analysis/projects/output/russian_asat/2021.11.23_uhf_correlation_plots  --range-scaling 1.0 --range-rate-scaling 0.2 /home/danielk/git/antisat_analysis/projects/output/russian_asat/2021.11.23_uhf_correlation.pickle /home/danielk/git/antisat_analysis/projects/output/russian_asat/uhf/2021.11.23.h5 && ./beampark_correlation_analysis.py --output /home/danielk/git/antisat_analysis/projects/output/russian_asat/2021.11.25_uhf_correlation_plots  --range-scaling 1.0 --range-rate-scaling 0.2 /home/danielk/git/antisat_analysis/projects/output/russian_asat/2021.11.25_uhf_correlation.pickle /home/danielk/git/antisat_analysis/projects/output/russian_asat/uhf/2021.11.25.h5 && ./beampark_correlation_analysis.py --output /home/danielk/git/antisat_analysis/projects/output/russian_asat/2021.11.29_uhf_correlation_plots  --range-scaling 1.0 --range-rate-scaling 0.2 /home/danielk/git/antisat_analysis/projects/output/russian_asat/2021.11.29_uhf_correlation.pickle /home/danielk/git/antisat_analysis/projects/output/russian_asat/uhf/2021.11.29.h5 && ./beampark_correlation_analysis.py --output /home/danielk/git/antisat_analysis/projects/output/russian_asat/2021.11.19_esr_correlation_plots  --range-scaling 1.0 --range-rate-scaling 0.2 /home/danielk/git/antisat_analysis/projects/output/russian_asat/2021.11.19_esr_correlation.pickle /home/danielk/git/antisat_analysis/projects/output/russian_asat/esr/2021.11.19.h5 && ./beampark_correlation_analysis.py --output /home/danielk/git/antisat_analysis/projects/output/russian_asat/2021.11.23_esr_correlation_plots  --range-scaling 1.0 --range-rate-scaling 0.2 /home/danielk/git/antisat_analysis/projects/output/russian_asat/2021.11.23_esr_correlation.pickle /home/danielk/git/antisat_analysis/projects/output/russian_asat/esr/2021.11.23.h5 && ./beampark_correlation_analysis.py --output /home/danielk/git/antisat_analysis/projects/output/russian_asat/2021.11.25_esr_correlation_plots  --range-scaling 1.0 --range-rate-scaling 0.2 /home/danielk/git/antisat_analysis/projects/output/russian_asat/2021.11.25_esr_correlation.pickle /home/danielk/git/antisat_analysis/projects/output/russian_asat/esr/2021.11.25.h5 && ./beampark_correlation_analysis.py --output /home/danielk/git/antisat_analysis/projects/output/russian_asat/2021.11.29_esr_correlation_plots  --range-scaling 1.0 --range-rate-scaling 0.2 /home/danielk/git/antisat_analysis/projects/output/russian_asat/2021.11.29_esr_correlation.pickle /home/danielk/git/antisat_analysis/projects/output/russian_asat/esr/2021.11.29.h5\n"
     ]
    }
   ],
   "source": [
    "print(' && '.join(correlation_analysis_cmds))"
   ]
  },
  {
   "cell_type": "code",
   "execution_count": 37,
   "id": "7bb5f15b",
   "metadata": {},
   "outputs": [],
   "source": [
    "for key in correlation_select:\n",
    "    paths = []\n",
    "    for pth in correlation_select[key]:\n",
    "        if not pth.is_file():\n",
    "            paths.append(list(pth.glob('*.npy'))[0])\n",
    "        else:\n",
    "            paths.append(pth)\n",
    "    correlation_select[key] = paths"
   ]
  },
  {
   "cell_type": "markdown",
   "id": "019bd1a1",
   "metadata": {},
   "source": [
    "## Plot measurements & debris cloud\n",
    "\n",
    "Hand-craft catalogs for kosmos debris"
   ]
  },
  {
   "cell_type": "code",
   "execution_count": 53,
   "id": "09578d45",
   "metadata": {},
   "outputs": [
    {
     "name": "stdout",
     "output_type": "stream",
     "text": [
      "./beampark_plot.py -o /home/danielk/git/antisat_analysis/projects/output/russian_asat/2021.11.23_uhf_measurement_plots -r \"uhf\" /home/danielk/git/antisat_analysis/projects/output/russian_asat/uhf/2021.11.23.h5 && ./beampark_plot.py -o /home/danielk/git/antisat_analysis/projects/output/russian_asat/2021.11.25_uhf_measurement_plots -r \"uhf\" /home/danielk/git/antisat_analysis/projects/output/russian_asat/uhf/2021.11.25.h5 && ./beampark_plot.py -o /home/danielk/git/antisat_analysis/projects/output/russian_asat/2021.11.29_uhf_measurement_plots -r \"uhf\" /home/danielk/git/antisat_analysis/projects/output/russian_asat/uhf/2021.11.29.h5 && ./beampark_plot.py -o /home/danielk/git/antisat_analysis/projects/output/russian_asat/2021.11.19_esr_measurement_plots -r \"esr\" /home/danielk/git/antisat_analysis/projects/output/russian_asat/esr/2021.11.19.h5 && ./beampark_plot.py -o /home/danielk/git/antisat_analysis/projects/output/russian_asat/2021.11.23_esr_measurement_plots -r \"esr\" /home/danielk/git/antisat_analysis/projects/output/russian_asat/esr/2021.11.23.h5 && ./beampark_plot.py -o /home/danielk/git/antisat_analysis/projects/output/russian_asat/2021.11.25_esr_measurement_plots -r \"esr\" /home/danielk/git/antisat_analysis/projects/output/russian_asat/esr/2021.11.25.h5 && ./beampark_plot.py -o /home/danielk/git/antisat_analysis/projects/output/russian_asat/2021.11.29_esr_measurement_plots -r \"esr\" /home/danielk/git/antisat_analysis/projects/output/russian_asat/esr/2021.11.29.h5\n"
     ]
    }
   ],
   "source": [
    "meas_plot_cmds = []\n",
    "for key in data_paths:\n",
    "    for pth in data_paths[key]:\n",
    "        out_folder = OUTPUT / (pth.stem + f'_{key}_measurement_plots')\n",
    "        out_folder.mkdir(exist_ok=True)\n",
    "        \n",
    "        cmd = f'./beampark_plot.py -o {out_folder} -r \"{key}\" {pth}'\n",
    "        meas_plot_cmds.append(cmd)\n",
    "        \n",
    "print(' && '.join(meas_plot_cmds))"
   ]
  },
  {
   "cell_type": "markdown",
   "id": "d4905518",
   "metadata": {},
   "source": [
    "### Download kosmos TLEs"
   ]
  },
  {
   "cell_type": "code",
   "execution_count": 48,
   "id": "401e1eb5",
   "metadata": {
    "scrolled": true
   },
   "outputs": [
    {
     "name": "stdout",
     "output_type": "stream",
     "text": [
      "\n",
      "./space_track_download.py 72h 2021-11-21 /home/danielk/git/antisat_analysis/projects/output/russian_asat/2021_11_19_spacetrack_kosmos.tle -k space-track -n \"COSMOS 1408 DEB\"\n",
      "\n",
      "./space_track_download.py 72h 2021-11-25 /home/danielk/git/antisat_analysis/projects/output/russian_asat/2021_11_23_spacetrack_kosmos.tle -k space-track -n \"COSMOS 1408 DEB\"\n",
      "\n",
      "./space_track_download.py 72h 2021-11-27 /home/danielk/git/antisat_analysis/projects/output/russian_asat/2021_11_25_spacetrack_kosmos.tle -k space-track -n \"COSMOS 1408 DEB\"\n",
      "\n",
      "./space_track_download.py 72h 2021-12-01 /home/danielk/git/antisat_analysis/projects/output/russian_asat/2021_11_29_spacetrack_kosmos.tle -k space-track -n \"COSMOS 1408 DEB\"\n"
     ]
    }
   ],
   "source": [
    "import datetime\n",
    "\n",
    "dt_max = datetime.timedelta(days=2)\n",
    "back = f'{(dt_max.days+1)*24}h'\n",
    "\n",
    "kosmos_catalogs = []\n",
    "kosmos_download_cmds = []\n",
    "for dt in dates:\n",
    "    outf = OUTPUT / f'{str(dt).replace(\"-\", \"_\")}_spacetrack_kosmos.tle'\n",
    "    kosmos_catalogs.append(outf)\n",
    "    cmd = f'./space_track_download.py {back} {str(dt + dt_max)} '\n",
    "    cmd += f'{outf} -k space-track -n \"COSMOS 1408 DEB\"'\n",
    "    print('\\n' + cmd)\n",
    "    kosmos_download_cmds.append(cmd)"
   ]
  },
  {
   "cell_type": "code",
   "execution_count": 49,
   "id": "331d9e6b",
   "metadata": {},
   "outputs": [
    {
     "data": {
      "text/plain": [
       "'./space_track_download.py 72h 2021-11-21 /home/danielk/git/antisat_analysis/projects/output/russian_asat/2021_11_19_spacetrack_kosmos.tle -k space-track -n \"COSMOS 1408 DEB\" && ./space_track_download.py 72h 2021-11-25 /home/danielk/git/antisat_analysis/projects/output/russian_asat/2021_11_23_spacetrack_kosmos.tle -k space-track -n \"COSMOS 1408 DEB\" && ./space_track_download.py 72h 2021-11-27 /home/danielk/git/antisat_analysis/projects/output/russian_asat/2021_11_25_spacetrack_kosmos.tle -k space-track -n \"COSMOS 1408 DEB\" && ./space_track_download.py 72h 2021-12-01 /home/danielk/git/antisat_analysis/projects/output/russian_asat/2021_11_29_spacetrack_kosmos.tle -k space-track -n \"COSMOS 1408 DEB\"'"
      ]
     },
     "execution_count": 49,
     "metadata": {},
     "output_type": "execute_result"
    }
   ],
   "source": [
    "' && '.join(kosmos_download_cmds)"
   ]
  },
  {
   "cell_type": "code",
   "execution_count": 51,
   "id": "2addb7cc",
   "metadata": {},
   "outputs": [
    {
     "name": "stdout",
     "output_type": "stream",
     "text": [
      "/home/danielk/git/antisat_analysis/projects/output/russian_asat/2021_11_19_spacetrack_kosmos.tle exists...\n",
      "/home/danielk/git/antisat_analysis/projects/output/russian_asat/2021_11_23_spacetrack_kosmos.tle exists...\n",
      "/home/danielk/git/antisat_analysis/projects/output/russian_asat/2021_11_25_spacetrack_kosmos.tle exists...\n",
      "/home/danielk/git/antisat_analysis/projects/output/russian_asat/2021_11_29_spacetrack_kosmos.tle exists...\n"
     ]
    }
   ],
   "source": [
    "for pth in kosmos_catalogs:\n",
    "    assert pth.is_file(), f'{pth} does not exist'\n",
    "    print(f'{pth} exists...')"
   ]
  },
  {
   "cell_type": "markdown",
   "id": "723ef45e",
   "metadata": {},
   "source": [
    "### Correlate with kosmos debs"
   ]
  },
  {
   "cell_type": "code",
   "execution_count": 69,
   "id": "30263a1f",
   "metadata": {},
   "outputs": [],
   "source": [
    "kosmos_threshold = 3e3\n",
    "kosmos_threshold_cm = '' if kosmos_threshold is None else f'--threshold {kosmos_threshold}'"
   ]
  },
  {
   "cell_type": "code",
   "execution_count": 70,
   "id": "460ed317",
   "metadata": {},
   "outputs": [
    {
     "name": "stdout",
     "output_type": "stream",
     "text": [
      "no kosmos elements, skipping...\n",
      "no kosmos elements, skipping...\n",
      "no kosmos elements, skipping...\n",
      "./beampark_correlator.py eiscat_uhf /home/danielk/git/antisat_analysis/projects/output/russian_asat/2021_11_25_spacetrack_kosmos.tle /home/danielk/git/antisat_analysis/projects/output/russian_asat/uhf/2021.11.25.h5 /home/danielk/git/antisat_analysis/projects/output/russian_asat/2021.11.25_uhf_kosmos_correlation.pickle  --target-epoch 2021-11-25 --jitter --range-scaling 1.0 --range-rate-scaling 0.2  -c && ./beampark_correlator.py eiscat_uhf /home/danielk/git/antisat_analysis/projects/output/russian_asat/2021_11_29_spacetrack_kosmos.tle /home/danielk/git/antisat_analysis/projects/output/russian_asat/uhf/2021.11.29.h5 /home/danielk/git/antisat_analysis/projects/output/russian_asat/2021.11.29_uhf_kosmos_correlation.pickle  --target-epoch 2021-11-29 --jitter --range-scaling 1.0 --range-rate-scaling 0.2  -c && ./beampark_correlator.py eiscat_esr /home/danielk/git/antisat_analysis/projects/output/russian_asat/2021_11_25_spacetrack_kosmos.tle /home/danielk/git/antisat_analysis/projects/output/russian_asat/esr/2021.11.25.h5 /home/danielk/git/antisat_analysis/projects/output/russian_asat/2021.11.25_esr_kosmos_correlation.pickle  --target-epoch 2021-11-25 --jitter --range-scaling 1.0 --range-rate-scaling 0.2  -c && ./beampark_correlator.py eiscat_esr /home/danielk/git/antisat_analysis/projects/output/russian_asat/2021_11_29_spacetrack_kosmos.tle /home/danielk/git/antisat_analysis/projects/output/russian_asat/esr/2021.11.29.h5 /home/danielk/git/antisat_analysis/projects/output/russian_asat/2021.11.29_esr_kosmos_correlation.pickle  --target-epoch 2021-11-29 --jitter --range-scaling 1.0 --range-rate-scaling 0.2  -c\n",
      "\n",
      "\n",
      "no kosmos correlation, skipping...\n",
      "no kosmos correlation, skipping...\n",
      "no kosmos correlation, skipping...\n",
      "./beampark_correlation_analysis.py --output /home/danielk/git/antisat_analysis/projects/output/russian_asat/2021.11.25_uhf_kosmos_correlation_plots --threshold 3000.0 --range-scaling 1.0 --range-rate-scaling 0.2 /home/danielk/git/antisat_analysis/projects/output/russian_asat/2021.11.25_uhf_kosmos_correlation.pickle /home/danielk/git/antisat_analysis/projects/output/russian_asat/uhf/2021.11.25.h5 && ./beampark_correlation_analysis.py --output /home/danielk/git/antisat_analysis/projects/output/russian_asat/2021.11.29_uhf_kosmos_correlation_plots --threshold 3000.0 --range-scaling 1.0 --range-rate-scaling 0.2 /home/danielk/git/antisat_analysis/projects/output/russian_asat/2021.11.29_uhf_kosmos_correlation.pickle /home/danielk/git/antisat_analysis/projects/output/russian_asat/uhf/2021.11.29.h5 && ./beampark_correlation_analysis.py --output /home/danielk/git/antisat_analysis/projects/output/russian_asat/2021.11.25_esr_kosmos_correlation_plots --threshold 3000.0 --range-scaling 1.0 --range-rate-scaling 0.2 /home/danielk/git/antisat_analysis/projects/output/russian_asat/2021.11.25_esr_kosmos_correlation.pickle /home/danielk/git/antisat_analysis/projects/output/russian_asat/esr/2021.11.25.h5 && ./beampark_correlation_analysis.py --output /home/danielk/git/antisat_analysis/projects/output/russian_asat/2021.11.29_esr_kosmos_correlation_plots --threshold 3000.0 --range-scaling 1.0 --range-rate-scaling 0.2 /home/danielk/git/antisat_analysis/projects/output/russian_asat/2021.11.29_esr_kosmos_correlation.pickle /home/danielk/git/antisat_analysis/projects/output/russian_asat/esr/2021.11.29.h5\n"
     ]
    }
   ],
   "source": [
    "kosmos_correlate_commands = []\n",
    "kosmos_correlations = {}\n",
    "for key in data_paths:\n",
    "    kosmos_correlations[key] = []\n",
    "    for pth, dt in zip(data_paths[key], dates_keyed[key]):\n",
    "        tle_file = kosmos_catalogs[dates.index(dt)]\n",
    "        if tle_file.stat().st_size == 0:\n",
    "            kosmos_correlations[key].append(None)\n",
    "            print('no kosmos elements, skipping...')\n",
    "            continue\n",
    "        out_file = OUTPUT / (pth.stem + f'_{key}_kosmos_correlation.pickle')\n",
    "        \n",
    "        kosmos_correlations[key].append(out_file)\n",
    "        \n",
    "        cmd = f'./beampark_correlator.py eiscat_{key} '\n",
    "        cmd += f'{str(tle_file)} {str(pth)} {str(out_file)} {override_cm} '\n",
    "        cmd += f'--target-epoch {dt} '\n",
    "        cmd += f'{jitter_cm} {r_scaling_cm} {dr_scaling_cm} {save_states_cm} -c'\n",
    "        kosmos_correlate_commands.append(cmd)\n",
    "\n",
    "print(' && '.join(kosmos_correlate_commands))\n",
    "print('\\n')  \n",
    "\n",
    "kosmos_correlation_analysis_cmds = []\n",
    "kosmos_correlation_select = {}\n",
    "for key in data_paths:\n",
    "    kosmos_correlation_select[key] = []\n",
    "    for pth, cor in zip(data_paths[key], kosmos_correlations[key]):\n",
    "        if cor is None:\n",
    "            print('no kosmos correlation, skipping...')\n",
    "            kosmos_correlation_select[key].append(None)\n",
    "            continue\n",
    "        out_folder = OUTPUT / (pth.stem + f'_{key}_kosmos_correlation_plots')\n",
    "        \n",
    "        kosmos_correlation_select[key].append(out_folder)\n",
    "        \n",
    "        cmd = f'./beampark_correlation_analysis.py --output {out_folder} '\n",
    "        cmd += f'{kosmos_threshold_cm} {r_scaling_cm} {dr_scaling_cm} '\n",
    "        cmd += f'{cor} {pth}'\n",
    "        \n",
    "        kosmos_correlation_analysis_cmds.append(cmd)\n",
    "print(' && '.join(kosmos_correlation_analysis_cmds))"
   ]
  },
  {
   "cell_type": "code",
   "execution_count": 71,
   "id": "450e30fb",
   "metadata": {},
   "outputs": [],
   "source": [
    "for key in kosmos_correlation_select:\n",
    "    paths = []\n",
    "    for pth in kosmos_correlation_select[key]:\n",
    "        if pth is None:\n",
    "            paths.append(None)\n",
    "            continue\n",
    "        if not pth.is_file():\n",
    "            paths.append(list(pth.glob('*.npy'))[0])\n",
    "        else:\n",
    "            paths.append(pth)\n",
    "    kosmos_correlation_select[key] = paths"
   ]
  },
  {
   "cell_type": "code",
   "execution_count": null,
   "id": "56a6e262",
   "metadata": {},
   "outputs": [],
   "source": []
  },
  {
   "cell_type": "code",
   "execution_count": null,
   "id": "1e51a6c4",
   "metadata": {},
   "outputs": [],
   "source": []
  },
  {
   "cell_type": "code",
   "execution_count": null,
   "id": "0f3d7cab",
   "metadata": {},
   "outputs": [],
   "source": []
  },
  {
   "cell_type": "code",
   "execution_count": null,
   "id": "0217c853",
   "metadata": {},
   "outputs": [],
   "source": []
  },
  {
   "cell_type": "code",
   "execution_count": null,
   "id": "20903c3f",
   "metadata": {},
   "outputs": [],
   "source": []
  },
  {
   "cell_type": "code",
   "execution_count": null,
   "id": "8737b96b",
   "metadata": {},
   "outputs": [],
   "source": []
  }
 ],
 "metadata": {
  "kernelspec": {
   "display_name": "Python 3 (ipykernel)",
   "language": "python",
   "name": "python3"
  },
  "language_info": {
   "codemirror_mode": {
    "name": "ipython",
    "version": 3
   },
   "file_extension": ".py",
   "mimetype": "text/x-python",
   "name": "python",
   "nbconvert_exporter": "python",
   "pygments_lexer": "ipython3",
   "version": "3.9.7"
  }
 },
 "nbformat": 4,
 "nbformat_minor": 5
}
