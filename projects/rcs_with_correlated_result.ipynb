{
 "cells": [
  {
   "cell_type": "code",
   "execution_count": 1,
   "id": "b3190975",
   "metadata": {},
   "outputs": [],
   "source": [
    "from pathlib import Path\n",
    "import h5py\n",
    "import numpy as np\n",
    "import matplotlib.pyplot as plt\n",
    "from astropy.time import Time, TimeDelta\n",
    "\n",
    "import sorts\n",
    "import pyant\n",
    "import pyorb\n",
    "\n",
    "base = Path('/home/danielk/git/antisat_analysis/projects/output/russian_asat')\n",
    "data_path = Path('/home/danielk/data/spade/beamparks/uhf/2021.11.23/leo_bpark_2.1u_NO@uhf_extended')"
   ]
  },
  {
   "cell_type": "code",
   "execution_count": 2,
   "id": "75748db6",
   "metadata": {
    "scrolled": true
   },
   "outputs": [],
   "source": [
    "correlation_select_file = base / '2021.11.23_uhf_correlation_plots/eiscat_uhf_selected_correlations.npy'\n",
    "correlation_file = base/ '2021.11.23_uhf_correlation.pickle'\n",
    "\n",
    "correlation_select = np.load(correlation_select_file)\n",
    "\n",
    "with h5py.File(correlation_file, 'r') as ds:\n",
    "    indecies = ds['matched_object_index'][()]\n",
    "    name = ds.attrs['radar_name']\n",
    "\n",
    "measurnment_id = np.arange(indecies.shape[1])"
   ]
  },
  {
   "cell_type": "code",
   "execution_count": 3,
   "id": "343bf963",
   "metadata": {},
   "outputs": [],
   "source": [
    "tle_file = base / '2021_11_23_spacetrack.tle'\n",
    "pop = sorts.population.tle_catalog(tle_file, cartesian=False)\n",
    "pop.unique()"
   ]
  },
  {
   "cell_type": "code",
   "execution_count": 18,
   "id": "b754edf9",
   "metadata": {},
   "outputs": [
    {
     "name": "stdout",
     "output_type": "stream",
     "text": [
      "skipping    5.3  ratio target\n",
      "skipping    5.5  ratio target\n",
      "skipping    5.1  ratio target\n",
      "skipping    5.2  ratio target\n"
     ]
    }
   ],
   "source": [
    "events_file = data_path / '20211123_12/events.txt'\n",
    "extended_files = []\n",
    "with open(events_file, 'r') as fh:\n",
    "    for ind, line in enumerate(fh):\n",
    "        if ind < 33 or len(line.strip()) == 0:\n",
    "            continue\n",
    "        #filter the SNR like with the h5 files\n",
    "        if float(line[69:76])**2.0 <= 33:\n",
    "            print(f'skipping {line[69:76]} ratio target')\n",
    "            continue\n",
    "        extended_files.append(line[181:].strip())"
   ]
  },
  {
   "cell_type": "code",
   "execution_count": 19,
   "id": "ec5465ee",
   "metadata": {},
   "outputs": [],
   "source": [
    "spade_file = base / 'uhf/2021.11.23.h5'\n",
    "with h5py.File(spade_file, 'r') as h_det:\n",
    "    r = h_det['r'][()]*1e3  # km -> m, one way\n",
    "    t = h_det['t'][()]  # Unix seconds\n",
    "    v = h_det['v'][()]*1e3  # km/s -> m/s\n",
    "    inds = np.argsort(t)\n",
    "    t = t[inds]\n",
    "    r = r[inds]\n",
    "    v = v[inds]\n",
    "\n",
    "    times = Time(t, format='unix', scale='utc')\n",
    "    epoch = times[0]\n",
    "    t = (times - epoch).sec"
   ]
  },
  {
   "cell_type": "code",
   "execution_count": 20,
   "id": "427bcfd5",
   "metadata": {},
   "outputs": [],
   "source": [
    "#select only from sub_folder\n",
    "t0 = Time('2021-11-23 12:00:00', format='iso', scale='utc')\n",
    "t1 = Time('2021-11-23 13:00:00', format='iso', scale='utc')\n",
    "\n",
    "sub_select_inds = np.logical_and(\n",
    "    times >= t0, \n",
    "    times <= t1,\n",
    ")\n",
    "sub_measurnment_id = measurnment_id[sub_select_inds]\n",
    "sub_correlation_select = correlation_select[sub_select_inds]\n",
    "sub_indecies = indecies.flatten()[sub_select_inds]\n",
    "\n",
    "correlated_measurnment_id = sub_measurnment_id[sub_correlation_select]\n",
    "correlated_object_id = sub_indecies[sub_correlation_select]\n",
    "\n",
    "extended_files = np.array(extended_files)\n",
    "correlated_extended_files = extended_files[sub_correlation_select]"
   ]
  },
  {
   "cell_type": "code",
   "execution_count": 21,
   "id": "5fb55822",
   "metadata": {},
   "outputs": [
    {
     "name": "stdout",
     "output_type": "stream",
     "text": [
      "572\n",
      "572\n",
      "572\n",
      "572\n",
      "184\n",
      "184\n",
      "184\n",
      "184\n",
      "37\n",
      "37\n",
      "37\n"
     ]
    }
   ],
   "source": [
    "#These are all indexed according to measurnment id\n",
    "print(len(sub_select_inds))\n",
    "print(len(measurnment_id))\n",
    "print(len(correlation_select))\n",
    "print(len(indecies.flatten()))\n",
    "#these are for extended data\n",
    "print(len(sub_measurnment_id))\n",
    "print(len(sub_correlation_select))\n",
    "print(len(sub_indecies))\n",
    "print(len(extended_files))\n",
    "#these are the correlated measurnments and their objects\n",
    "print(len(correlated_measurnment_id))\n",
    "print(len(correlated_object_id))\n",
    "print(len(correlated_extended_files))"
   ]
  },
  {
   "cell_type": "code",
   "execution_count": 22,
   "id": "71aca18a",
   "metadata": {},
   "outputs": [
    {
     "name": "stdout",
     "output_type": "stream",
     "text": [
      "146\n",
      "2986\n",
      "uhf_20211123_120016_600000\n"
     ]
    }
   ],
   "source": [
    "#select one\n",
    "select_id = 0\n",
    "\n",
    "meas_id = correlated_measurnment_id[select_id]\n",
    "obj_id = correlated_object_id[select_id]\n",
    "ext_data_file = str(correlated_extended_files[select_id])\n",
    "print(meas_id)\n",
    "print(obj_id)\n",
    "print(ext_data_file)"
   ]
  },
  {
   "cell_type": "code",
   "execution_count": 23,
   "id": "85e6229a",
   "metadata": {},
   "outputs": [
    {
     "name": "stdout",
     "output_type": "stream",
     "text": [
      "\n",
      "Space object 13801: <Time object: scale='utc' format='mjd' value=59540.06464707013>:\n",
      "(b'1 13801U 81053GV  21326.06464707  .00000575  00000-0  32778-3 0  9995', b'2 13801  82.8001 248.9451 0042499 212.9904 146.8618 14.07752041984277')\n",
      "Parameters: C_D=2.3, m=0.0029120161739511607, C_R=1.0, d=0.10361160122474014\n"
     ]
    }
   ],
   "source": [
    "obj = pop.get_object(obj_id)\n",
    "print(obj)"
   ]
  },
  {
   "cell_type": "markdown",
   "id": "085e2dcf",
   "metadata": {},
   "source": [
    "### From https://www.n2yo.com/satellite/?s=13801\n",
    "\n",
    "* NORAD ID: 13801 \n",
    "* Int'l Code: 1981-053GY \n",
    "* Perigee: 841.1 km \n",
    "* Apogee: 906.4 km \n",
    "* Inclination: 82.8 ° \n",
    "* Period: 102.3 minutes \n",
    "* Semi major axis: 7244 km \n",
    "* RCS: 0.0143 m2 (small) \n",
    "* Launch date: June 4, 1981\n",
    "* Source: Commonwealth of Independent States (former USSR) (CIS)\n",
    "* Launch site: PLESETSK MISSILE AND SPACE COMPLEX (PKMTR)\n"
   ]
  },
  {
   "cell_type": "code",
   "execution_count": 24,
   "id": "6bfcd712",
   "metadata": {},
   "outputs": [],
   "source": [
    "from determine_beampark_rcs import load_spade_extended\n",
    "\n",
    "data_file = data_path / f'20211123_12/{ext_data_file}/{ext_data_file}.hlist'\n",
    "data = load_spade_extended(data_file)"
   ]
  },
  {
   "cell_type": "code",
   "execution_count": 25,
   "id": "f585a48e",
   "metadata": {},
   "outputs": [],
   "source": [
    "radar = sorts.radars.eiscat_uhf\n",
    "radar.tx[0].beam.sph_point(azimuth=90, elevation=75)"
   ]
  },
  {
   "cell_type": "code",
   "execution_count": null,
   "id": "101a2ea5",
   "metadata": {},
   "outputs": [],
   "source": []
  },
  {
   "cell_type": "code",
   "execution_count": null,
   "id": "dfd1ba13",
   "metadata": {},
   "outputs": [],
   "source": []
  },
  {
   "cell_type": "code",
   "execution_count": null,
   "id": "e2506d04",
   "metadata": {},
   "outputs": [],
   "source": []
  },
  {
   "cell_type": "code",
   "execution_count": null,
   "id": "f6dbb7d8",
   "metadata": {},
   "outputs": [],
   "source": []
  }
 ],
 "metadata": {
  "kernelspec": {
   "display_name": "Python 3 (ipykernel)",
   "language": "python",
   "name": "python3"
  },
  "language_info": {
   "codemirror_mode": {
    "name": "ipython",
    "version": 3
   },
   "file_extension": ".py",
   "mimetype": "text/x-python",
   "name": "python",
   "nbconvert_exporter": "python",
   "pygments_lexer": "ipython3",
   "version": "3.9.7"
  }
 },
 "nbformat": 4,
 "nbformat_minor": 5
}
