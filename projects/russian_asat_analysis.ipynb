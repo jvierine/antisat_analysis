{
 "cells": [
  {
   "cell_type": "markdown",
   "id": "1b56edf3",
   "metadata": {},
   "source": [
    "# This file details the step by step analysis of the russian asat"
   ]
  },
  {
   "cell_type": "code",
   "execution_count": 1,
   "id": "12dc88e2",
   "metadata": {},
   "outputs": [
    {
     "name": "stdout",
     "output_type": "stream",
     "text": [
      "Using /home/danielk/git/antisat_analysis/projects/output/russian_asat as output\n"
     ]
    }
   ],
   "source": [
    "from pathlib import Path\n",
    "HERE = Path('.').resolve()\n",
    "OUTPUT = HERE / 'output' / 'russian_asat'\n",
    "OUTPUT.mkdir(exist_ok=True)\n",
    "print(f'Using {OUTPUT} as output')"
   ]
  },
  {
   "cell_type": "code",
   "execution_count": 2,
   "id": "272a572b",
   "metadata": {},
   "outputs": [
    {
     "name": "stdout",
     "output_type": "stream",
     "text": [
      "Adding /home/danielk/git/antisat_analysis to path\n"
     ]
    }
   ],
   "source": [
    "import sys\n",
    "print(f'Adding {str(HERE.parent)} to path')\n",
    "sys.path.append(str(HERE.parent))"
   ]
  },
  {
   "cell_type": "code",
   "execution_count": 10,
   "id": "9fd10358",
   "metadata": {},
   "outputs": [],
   "source": [
    "spade_data_paths = {\n",
    "    'uhf': [\n",
    "        '/home/danielk/data/spade/beamparks/uhf/2021.11.23',\n",
    "        '/home/danielk/data/spade/beamparks/uhf/2021.11.25',\n",
    "        '/home/danielk/data/spade/beamparks/uhf/2021.11.29',\n",
    "    ],\n",
    "    'esr': [\n",
    "        '/home/danielk/data/spade/beamparks/esr/2021.11.19',\n",
    "        '/home/danielk/data/spade/beamparks/esr/2021.11.23',\n",
    "        '/home/danielk/data/spade/beamparks/esr/2021.11.25',\n",
    "        '/home/danielk/data/spade/beamparks/esr/2021.11.29',\n",
    "    ]\n",
    "}\n",
    "\n",
    "data_paths = {}\n",
    "for key in spade_data_paths:\n",
    "    data_paths[key] = []\n",
    "    for pth in spade_data_paths[key]:\n",
    "        data_paths[key].append(OUTPUT / key / (Path(pth).name + '.h5'))"
   ]
  },
  {
   "cell_type": "markdown",
   "id": "3cb91cc4",
   "metadata": {},
   "source": [
    "## Convert event.txt to h5"
   ]
  },
  {
   "cell_type": "code",
   "execution_count": 12,
   "id": "a47232c9",
   "metadata": {
    "scrolled": true
   },
   "outputs": [
    {
     "name": "stdout",
     "output_type": "stream",
     "text": [
      "/home/danielk/git/antisat_analysis/projects/output/russian_asat/uhf/2021.11.23.h5 exsists, skipping...\n",
      "/home/danielk/git/antisat_analysis/projects/output/russian_asat/uhf/2021.11.25.h5 exsists, skipping...\n",
      "/home/danielk/git/antisat_analysis/projects/output/russian_asat/uhf/2021.11.29.h5 exsists, skipping...\n",
      "/home/danielk/git/antisat_analysis/projects/output/russian_asat/esr/2021.11.19.h5 exsists, skipping...\n",
      "/home/danielk/git/antisat_analysis/projects/output/russian_asat/esr/2021.11.23.h5 exsists, skipping...\n",
      "/home/danielk/git/antisat_analysis/projects/output/russian_asat/esr/2021.11.25.h5 exsists, skipping...\n",
      "/home/danielk/git/antisat_analysis/projects/output/russian_asat/esr/2021.11.29.h5 exsists, skipping...\n"
     ]
    }
   ],
   "source": [
    "from convert_spade_events_to_h5 import main as conv_main\n",
    "\n",
    "for key in spade_data_paths:\n",
    "    for pth, out in zip(spade_data_paths[key], data_paths[key]):\n",
    "\n",
    "        pth = Path(pth).resolve()\n",
    "        if not out.parent.is_dir():\n",
    "            out.parent.mkdir(parents=True, exist_ok=True)\n",
    "        if not out.is_file():\n",
    "            cmd = f'{str(pth)} {str(out)}'\n",
    "            print(f'Running {cmd}')\n",
    "            conv_main(cmd.split())\n",
    "        else:\n",
    "            print(f'{out} exsists, skipping...')\n"
   ]
  },
  {
   "cell_type": "code",
   "execution_count": 21,
   "id": "befeb353",
   "metadata": {},
   "outputs": [],
   "source": [
    "from astropy.time import Time, TimeDelta\n",
    "import h5py\n",
    "import numpy as np\n",
    "\n",
    "# Determine dates of files\n",
    "dates = []\n",
    "for key in data_paths:\n",
    "    for pth in data_paths[key]:\n",
    "        with h5py.File(pth, 'r') as hf:\n",
    "            epoch = Time(np.min(hf['t']), format='unix', scale='utc')\n",
    "            dates.append(epoch.datetime.date())\n",
    "\n",
    "dates = np.unique(dates).tolist()"
   ]
  },
  {
   "cell_type": "code",
   "execution_count": 24,
   "id": "9cd9bca5",
   "metadata": {},
   "outputs": [
    {
     "name": "stdout",
     "output_type": "stream",
     "text": [
      "2021-11-19\n",
      "2021-11-23\n",
      "2021-11-25\n",
      "2021-11-29\n"
     ]
    }
   ],
   "source": [
    "for dt in dates:\n",
    "    print(dt.strftime('%Y-%m-%d'))"
   ]
  },
  {
   "cell_type": "markdown",
   "id": "929bc0b7",
   "metadata": {},
   "source": [
    "## Download spacetrack catalog\n",
    "\n",
    "Run the commands generate below to get the appropriate catalogs"
   ]
  },
  {
   "cell_type": "code",
   "execution_count": 28,
   "id": "c84a01d4",
   "metadata": {},
   "outputs": [
    {
     "name": "stdout",
     "output_type": "stream",
     "text": [
      "./space_track_download.py 24h 2021-11-19 /home/danielk/git/antisat_analysis/projects/output/russian_asat/2021_11_19_spacetrack.tle -k space-track\n",
      "./space_track_download.py 24h 2021-11-23 /home/danielk/git/antisat_analysis/projects/output/russian_asat/2021_11_23_spacetrack.tle -k space-track\n",
      "./space_track_download.py 24h 2021-11-25 /home/danielk/git/antisat_analysis/projects/output/russian_asat/2021_11_25_spacetrack.tle -k space-track\n",
      "./space_track_download.py 24h 2021-11-29 /home/danielk/git/antisat_analysis/projects/output/russian_asat/2021_11_29_spacetrack.tle -k space-track\n"
     ]
    }
   ],
   "source": [
    "# Set this to None if you dont want to use a secret-tool to get credentials\n",
    "#  they need to be stored under the \"password\" and \"username\" attributes\n",
    "secret_tool_key = 'space-track'\n",
    "\n",
    "catalog_commands = []\n",
    "tle_catalogs = []\n",
    "for dt in dates:\n",
    "    dt_str = dt.strftime('%Y-%m-%d')\n",
    "    \n",
    "    out_tle = OUTPUT / f'{dt_str.replace(\"-\",\"_\")}_spacetrack.tle'\n",
    "    tle_catalogs.append(out_tle)\n",
    "    \n",
    "    cmd = f'./space_track_download.py 24h {dt_str} {str(out_tle)}'\n",
    "    if secret_tool_key is not None:\n",
    "        cmd += f' -k {secret_tool_key}'\n",
    "    \n",
    "    print(cmd)\n",
    "    catalog_commands.append(cmd)"
   ]
  },
  {
   "cell_type": "code",
   "execution_count": 31,
   "id": "16eb59ae",
   "metadata": {},
   "outputs": [
    {
     "name": "stdout",
     "output_type": "stream",
     "text": [
      "/home/danielk/git/antisat_analysis/projects/output/russian_asat/2021_11_19_spacetrack.tle exists...\n",
      "/home/danielk/git/antisat_analysis/projects/output/russian_asat/2021_11_23_spacetrack.tle exists...\n",
      "/home/danielk/git/antisat_analysis/projects/output/russian_asat/2021_11_25_spacetrack.tle exists...\n",
      "/home/danielk/git/antisat_analysis/projects/output/russian_asat/2021_11_29_spacetrack.tle exists...\n"
     ]
    }
   ],
   "source": [
    "#Verify that catalogs exist\n",
    "for pth in tle_catalogs:\n",
    "    assert pth.is_file()\n",
    "    print(f'{pth} exists...')"
   ]
  },
  {
   "cell_type": "markdown",
   "id": "d7ad5850",
   "metadata": {},
   "source": [
    "## Correlate measurnments"
   ]
  },
  {
   "cell_type": "code",
   "execution_count": null,
   "id": "2614b552",
   "metadata": {},
   "outputs": [],
   "source": []
  },
  {
   "cell_type": "code",
   "execution_count": null,
   "id": "704f88db",
   "metadata": {},
   "outputs": [],
   "source": []
  },
  {
   "cell_type": "code",
   "execution_count": null,
   "id": "ed8ef605",
   "metadata": {},
   "outputs": [],
   "source": []
  },
  {
   "cell_type": "code",
   "execution_count": null,
   "id": "6693f812",
   "metadata": {},
   "outputs": [],
   "source": []
  }
 ],
 "metadata": {
  "kernelspec": {
   "display_name": "Python 3 (ipykernel)",
   "language": "python",
   "name": "python3"
  },
  "language_info": {
   "codemirror_mode": {
    "name": "ipython",
    "version": 3
   },
   "file_extension": ".py",
   "mimetype": "text/x-python",
   "name": "python",
   "nbconvert_exporter": "python",
   "pygments_lexer": "ipython3",
   "version": "3.9.7"
  }
 },
 "nbformat": 4,
 "nbformat_minor": 5
}
