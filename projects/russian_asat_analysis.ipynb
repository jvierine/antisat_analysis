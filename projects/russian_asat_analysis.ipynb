{
 "cells": [
  {
   "cell_type": "markdown",
   "id": "1b56edf3",
   "metadata": {},
   "source": [
    "# This file details the step by step analysis of the russian asat"
   ]
  },
  {
   "cell_type": "code",
   "execution_count": 1,
   "id": "12dc88e2",
   "metadata": {},
   "outputs": [
    {
     "name": "stdout",
     "output_type": "stream",
     "text": [
      "Using /home/danielk/git/antisat_analysis/projects/output/russian_asat as output\n"
     ]
    }
   ],
   "source": [
    "from pathlib import Path\n",
    "HERE = Path('.').resolve()\n",
    "OUTPUT = HERE / 'output' / 'russian_asat'\n",
    "OUTPUT.mkdir(exist_ok=True)\n",
    "print(f'Using {OUTPUT} as output')"
   ]
  },
  {
   "cell_type": "code",
   "execution_count": 2,
   "id": "272a572b",
   "metadata": {},
   "outputs": [
    {
     "name": "stdout",
     "output_type": "stream",
     "text": [
      "Adding /home/danielk/git/antisat_analysis to path\n"
     ]
    }
   ],
   "source": [
    "import sys\n",
    "print(f'Adding {str(HERE.parent)} to path')\n",
    "sys.path.append(str(HERE.parent))"
   ]
  },
  {
   "cell_type": "code",
   "execution_count": 3,
   "id": "9fd10358",
   "metadata": {},
   "outputs": [],
   "source": [
    "spade_data_paths = {\n",
    "    'uhf': [\n",
    "        '/home/danielk/data/spade/beamparks/uhf/2021.11.23',\n",
    "        '/home/danielk/data/spade/beamparks/uhf/2021.11.25',\n",
    "        '/home/danielk/data/spade/beamparks/uhf/2021.11.29',\n",
    "    ],\n",
    "    'esr': [\n",
    "        '/home/danielk/data/spade/beamparks/esr/2021.11.19',\n",
    "        '/home/danielk/data/spade/beamparks/esr/2021.11.23',\n",
    "        '/home/danielk/data/spade/beamparks/esr/2021.11.25',\n",
    "        '/home/danielk/data/spade/beamparks/esr/2021.11.29',\n",
    "    ]\n",
    "}\n",
    "\n",
    "data_paths = {}\n",
    "for key in spade_data_paths:\n",
    "    data_paths[key] = []\n",
    "    for pth in spade_data_paths[key]:\n",
    "        data_paths[key].append(OUTPUT / key / (Path(pth).name + '.h5'))"
   ]
  },
  {
   "cell_type": "markdown",
   "id": "3cb91cc4",
   "metadata": {},
   "source": [
    "## Convert event.txt to h5"
   ]
  },
  {
   "cell_type": "code",
   "execution_count": 4,
   "id": "a47232c9",
   "metadata": {
    "scrolled": true
   },
   "outputs": [
    {
     "name": "stdout",
     "output_type": "stream",
     "text": [
      "/home/danielk/git/antisat_analysis/projects/output/russian_asat/uhf/2021.11.23.h5 exsists, skipping...\n",
      "/home/danielk/git/antisat_analysis/projects/output/russian_asat/uhf/2021.11.25.h5 exsists, skipping...\n",
      "/home/danielk/git/antisat_analysis/projects/output/russian_asat/uhf/2021.11.29.h5 exsists, skipping...\n",
      "/home/danielk/git/antisat_analysis/projects/output/russian_asat/esr/2021.11.19.h5 exsists, skipping...\n",
      "/home/danielk/git/antisat_analysis/projects/output/russian_asat/esr/2021.11.23.h5 exsists, skipping...\n",
      "/home/danielk/git/antisat_analysis/projects/output/russian_asat/esr/2021.11.25.h5 exsists, skipping...\n",
      "/home/danielk/git/antisat_analysis/projects/output/russian_asat/esr/2021.11.29.h5 exsists, skipping...\n"
     ]
    }
   ],
   "source": [
    "from convert_spade_events_to_h5 import main as conv_main\n",
    "\n",
    "for key in spade_data_paths:\n",
    "    for pth, out in zip(spade_data_paths[key], data_paths[key]):\n",
    "\n",
    "        pth = Path(pth).resolve()\n",
    "        if not out.parent.is_dir():\n",
    "            out.parent.mkdir(parents=True, exist_ok=True)\n",
    "        if not out.is_file():\n",
    "            cmd = f'{str(pth)} {str(out)}'\n",
    "            print(f'Running {cmd}')\n",
    "            conv_main(cmd.split())\n",
    "        else:\n",
    "            print(f'{out} exsists, skipping...')\n"
   ]
  },
  {
   "cell_type": "code",
   "execution_count": 5,
   "id": "e1f0e535",
   "metadata": {},
   "outputs": [],
   "source": [
    "from astropy.time import Time, TimeDelta\n",
    "import h5py\n",
    "import numpy as np\n",
    "\n",
    "# Determine dates of files\n",
    "dates = []\n",
    "dates_keyed = {}\n",
    "for key in data_paths:\n",
    "    dates_keyed[key] = []\n",
    "    for pth in data_paths[key]:\n",
    "        with h5py.File(pth, 'r') as hf:\n",
    "            epoch = Time(np.min(hf['t']), format='unix', scale='utc')\n",
    "            dates.append(epoch.datetime.date())\n",
    "            dates_keyed[key].append(epoch.datetime.date())\n",
    "\n",
    "dates = np.unique(dates).tolist()"
   ]
  },
  {
   "cell_type": "code",
   "execution_count": 6,
   "id": "9472c997",
   "metadata": {},
   "outputs": [
    {
     "name": "stdout",
     "output_type": "stream",
     "text": [
      "2021-11-19\n",
      "2021-11-23\n",
      "2021-11-25\n",
      "2021-11-29\n"
     ]
    }
   ],
   "source": [
    "for dt in dates:\n",
    "    print(dt.strftime('%Y-%m-%d'))"
   ]
  },
  {
   "cell_type": "markdown",
   "id": "0c4c891b",
   "metadata": {},
   "source": [
    "## Download spacetrack catalog\n",
    "\n",
    "Run the commands generate below to get the appropriate catalogs"
   ]
  },
  {
   "cell_type": "code",
   "execution_count": 7,
   "id": "0942e062",
   "metadata": {},
   "outputs": [
    {
     "name": "stdout",
     "output_type": "stream",
     "text": [
      "./space_track_download.py 24h 2021-11-19 /home/danielk/git/antisat_analysis/projects/output/russian_asat/2021_11_19_spacetrack.tle -k space-track\n",
      "./space_track_download.py 24h 2021-11-23 /home/danielk/git/antisat_analysis/projects/output/russian_asat/2021_11_23_spacetrack.tle -k space-track\n",
      "./space_track_download.py 24h 2021-11-25 /home/danielk/git/antisat_analysis/projects/output/russian_asat/2021_11_25_spacetrack.tle -k space-track\n",
      "./space_track_download.py 24h 2021-11-29 /home/danielk/git/antisat_analysis/projects/output/russian_asat/2021_11_29_spacetrack.tle -k space-track\n"
     ]
    }
   ],
   "source": [
    "# Set this to None if you dont want to use a secret-tool to get credentials\n",
    "#  they need to be stored under the \"password\" and \"username\" attributes\n",
    "secret_tool_key = 'space-track'\n",
    "\n",
    "catalog_commands = []\n",
    "tle_catalogs = []\n",
    "for dt in dates:\n",
    "    dt_str = dt.strftime('%Y-%m-%d')\n",
    "    \n",
    "    out_tle = OUTPUT / f'{dt_str.replace(\"-\",\"_\")}_spacetrack.tle'\n",
    "    tle_catalogs.append(out_tle)\n",
    "    \n",
    "    cmd = f'./space_track_download.py 24h {dt_str} {str(out_tle)}'\n",
    "    if secret_tool_key is not None:\n",
    "        cmd += f' -k {secret_tool_key}'\n",
    "    \n",
    "    print(cmd)\n",
    "    catalog_commands.append(cmd)"
   ]
  },
  {
   "cell_type": "code",
   "execution_count": 8,
   "id": "601a7d96",
   "metadata": {},
   "outputs": [
    {
     "name": "stdout",
     "output_type": "stream",
     "text": [
      "/home/danielk/git/antisat_analysis/projects/output/russian_asat/2021_11_19_spacetrack.tle exists...\n",
      "/home/danielk/git/antisat_analysis/projects/output/russian_asat/2021_11_23_spacetrack.tle exists...\n",
      "/home/danielk/git/antisat_analysis/projects/output/russian_asat/2021_11_25_spacetrack.tle exists...\n",
      "/home/danielk/git/antisat_analysis/projects/output/russian_asat/2021_11_29_spacetrack.tle exists...\n"
     ]
    }
   ],
   "source": [
    "#Verify that catalogs exist\n",
    "for pth in tle_catalogs:\n",
    "    assert pth.is_file(), f'{pth} does not exist'\n",
    "    print(f'{pth} exists...')"
   ]
  },
  {
   "cell_type": "markdown",
   "id": "e58de80b",
   "metadata": {},
   "source": [
    "## Correlate measurnments\n",
    "\n",
    "### Calculate correlations\n",
    "\n",
    "Choose number of cores to run on"
   ]
  },
  {
   "cell_type": "code",
   "execution_count": 9,
   "id": "6ef43323",
   "metadata": {},
   "outputs": [],
   "source": [
    "cores = 6\n",
    "override = False\n",
    "jitter = True\n",
    "r_scaling = 1.0\n",
    "dr_scaling = 0.2\n",
    "save_states = False"
   ]
  },
  {
   "cell_type": "code",
   "execution_count": 13,
   "id": "7bd3ebd9",
   "metadata": {},
   "outputs": [
    {
     "name": "stdout",
     "output_type": "stream",
     "text": [
      "mpirun -n 6 ./beampark_correlator.py eiscat_uhf /home/danielk/git/antisat_analysis/projects/output/russian_asat/2021_11_23_spacetrack.tle /home/danielk/git/antisat_analysis/projects/output/russian_asat/uhf/2021.11.23.h5 /home/danielk/git/antisat_analysis/projects/output/russian_asat/2021.11.23_correlation.pickle  --jitter --range-scaling 1.0 --range-rate-scaling 0.2 -c\n",
      "\n",
      "mpirun -n 6 ./beampark_correlator.py eiscat_uhf /home/danielk/git/antisat_analysis/projects/output/russian_asat/2021_11_25_spacetrack.tle /home/danielk/git/antisat_analysis/projects/output/russian_asat/uhf/2021.11.25.h5 /home/danielk/git/antisat_analysis/projects/output/russian_asat/2021.11.25_correlation.pickle  --jitter --range-scaling 1.0 --range-rate-scaling 0.2 -c\n",
      "\n",
      "mpirun -n 6 ./beampark_correlator.py eiscat_uhf /home/danielk/git/antisat_analysis/projects/output/russian_asat/2021_11_29_spacetrack.tle /home/danielk/git/antisat_analysis/projects/output/russian_asat/uhf/2021.11.29.h5 /home/danielk/git/antisat_analysis/projects/output/russian_asat/2021.11.29_correlation.pickle  --jitter --range-scaling 1.0 --range-rate-scaling 0.2 -c\n",
      "\n",
      "mpirun -n 6 ./beampark_correlator.py eiscat_esr /home/danielk/git/antisat_analysis/projects/output/russian_asat/2021_11_19_spacetrack.tle /home/danielk/git/antisat_analysis/projects/output/russian_asat/esr/2021.11.19.h5 /home/danielk/git/antisat_analysis/projects/output/russian_asat/2021.11.19_correlation.pickle  --jitter --range-scaling 1.0 --range-rate-scaling 0.2 -c\n",
      "\n",
      "mpirun -n 6 ./beampark_correlator.py eiscat_esr /home/danielk/git/antisat_analysis/projects/output/russian_asat/2021_11_23_spacetrack.tle /home/danielk/git/antisat_analysis/projects/output/russian_asat/esr/2021.11.23.h5 /home/danielk/git/antisat_analysis/projects/output/russian_asat/2021.11.23_correlation.pickle  --jitter --range-scaling 1.0 --range-rate-scaling 0.2 -c\n",
      "\n",
      "mpirun -n 6 ./beampark_correlator.py eiscat_esr /home/danielk/git/antisat_analysis/projects/output/russian_asat/2021_11_25_spacetrack.tle /home/danielk/git/antisat_analysis/projects/output/russian_asat/esr/2021.11.25.h5 /home/danielk/git/antisat_analysis/projects/output/russian_asat/2021.11.25_correlation.pickle  --jitter --range-scaling 1.0 --range-rate-scaling 0.2 -c\n",
      "\n",
      "mpirun -n 6 ./beampark_correlator.py eiscat_esr /home/danielk/git/antisat_analysis/projects/output/russian_asat/2021_11_29_spacetrack.tle /home/danielk/git/antisat_analysis/projects/output/russian_asat/esr/2021.11.29.h5 /home/danielk/git/antisat_analysis/projects/output/russian_asat/2021.11.29_correlation.pickle  --jitter --range-scaling 1.0 --range-rate-scaling 0.2 -c\n",
      "\n"
     ]
    }
   ],
   "source": [
    "correlate_commands = []\n",
    "\n",
    "override_cm = '-c' if override else ''\n",
    "jitter_cm = '--jitter' if jitter else ''\n",
    "r_scaling_cm = f'--range-scaling {r_scaling}'\n",
    "dr_scaling_cm = f'--range-rate-scaling {dr_scaling}'\n",
    "\n",
    "correlations = {}\n",
    "for key in data_paths:\n",
    "    correlations[key] = []\n",
    "    for pth, dt in zip(data_paths[key], dates_keyed[key]):\n",
    "        tle_file = tle_catalogs[dates.index(dt)]\n",
    "        out_file = OUTPUT / (pth.stem + '_correlation.pickle')\n",
    "        \n",
    "        correlations[key].append(out_file)\n",
    "        \n",
    "        cmd = f'mpirun -n {cores} ./beampark_correlator.py eiscat_{key} '\n",
    "        cmd += f'{str(tle_file)} {str(pth)} {str(out_file)} {override_cm} '\n",
    "        cmd += f'{jitter_cm} {r_scaling_cm} {dr_scaling_cm} -c'\n",
    "        print(cmd + '\\n')\n",
    "        correlate_commands.append(cmd)\n",
    "\n"
   ]
  },
  {
   "cell_type": "code",
   "execution_count": 12,
   "id": "73e6857e",
   "metadata": {},
   "outputs": [
    {
     "name": "stdout",
     "output_type": "stream",
     "text": [
      "/home/danielk/git/antisat_analysis/projects/output/russian_asat/2021.11.23_correlation.pickle exists...\n",
      "/home/danielk/git/antisat_analysis/projects/output/russian_asat/2021.11.25_correlation.pickle exists...\n"
     ]
    },
    {
     "ename": "AssertionError",
     "evalue": "/home/danielk/git/antisat_analysis/projects/output/russian_asat/2021.11.29_correlation.pickle does not exist",
     "output_type": "error",
     "traceback": [
      "\u001b[0;31m---------------------------------------------------------------------------\u001b[0m",
      "\u001b[0;31mAssertionError\u001b[0m                            Traceback (most recent call last)",
      "\u001b[0;32m~/tmp/ipykernel_2322125/2231440827.py\u001b[0m in \u001b[0;36m<module>\u001b[0;34m\u001b[0m\n\u001b[1;32m      2\u001b[0m \u001b[0;32mfor\u001b[0m \u001b[0mkey\u001b[0m \u001b[0;32min\u001b[0m \u001b[0mcorrelations\u001b[0m\u001b[0;34m:\u001b[0m\u001b[0;34m\u001b[0m\u001b[0;34m\u001b[0m\u001b[0m\n\u001b[1;32m      3\u001b[0m     \u001b[0;32mfor\u001b[0m \u001b[0mpth\u001b[0m \u001b[0;32min\u001b[0m \u001b[0mcorrelations\u001b[0m\u001b[0;34m[\u001b[0m\u001b[0mkey\u001b[0m\u001b[0;34m]\u001b[0m\u001b[0;34m:\u001b[0m\u001b[0;34m\u001b[0m\u001b[0;34m\u001b[0m\u001b[0m\n\u001b[0;32m----> 4\u001b[0;31m         \u001b[0;32massert\u001b[0m \u001b[0mpth\u001b[0m\u001b[0;34m.\u001b[0m\u001b[0mis_file\u001b[0m\u001b[0;34m(\u001b[0m\u001b[0;34m)\u001b[0m\u001b[0;34m,\u001b[0m \u001b[0;34mf'{pth} does not exist'\u001b[0m\u001b[0;34m\u001b[0m\u001b[0;34m\u001b[0m\u001b[0m\n\u001b[0m\u001b[1;32m      5\u001b[0m         \u001b[0mprint\u001b[0m\u001b[0;34m(\u001b[0m\u001b[0;34mf'{pth} exists...'\u001b[0m\u001b[0;34m)\u001b[0m\u001b[0;34m\u001b[0m\u001b[0;34m\u001b[0m\u001b[0m\n",
      "\u001b[0;31mAssertionError\u001b[0m: /home/danielk/git/antisat_analysis/projects/output/russian_asat/2021.11.29_correlation.pickle does not exist"
     ]
    }
   ],
   "source": [
    "#Verify that catalogs exist\n",
    "for key in correlations:\n",
    "    for pth in correlations[key]:\n",
    "        assert pth.is_file(), f'{pth} does not exist'\n",
    "        print(f'{pth} exists...')"
   ]
  },
  {
   "cell_type": "markdown",
   "id": "09e6c813",
   "metadata": {},
   "source": [
    "### Analyse correalations"
   ]
  },
  {
   "cell_type": "code",
   "execution_count": null,
   "id": "6693f812",
   "metadata": {},
   "outputs": [],
   "source": []
  },
  {
   "cell_type": "code",
   "execution_count": null,
   "id": "fda18e7f",
   "metadata": {},
   "outputs": [],
   "source": []
  },
  {
   "cell_type": "code",
   "execution_count": null,
   "id": "7bb5f15b",
   "metadata": {},
   "outputs": [],
   "source": []
  },
  {
   "cell_type": "code",
   "execution_count": null,
   "id": "fe11f0a4",
   "metadata": {},
   "outputs": [],
   "source": []
  },
  {
   "cell_type": "code",
   "execution_count": null,
   "id": "6b8d6dc1",
   "metadata": {},
   "outputs": [],
   "source": []
  }
 ],
 "metadata": {
  "kernelspec": {
   "display_name": "Python 3 (ipykernel)",
   "language": "python",
   "name": "python3"
  },
  "language_info": {
   "codemirror_mode": {
    "name": "ipython",
    "version": 3
   },
   "file_extension": ".py",
   "mimetype": "text/x-python",
   "name": "python",
   "nbconvert_exporter": "python",
   "pygments_lexer": "ipython3",
   "version": "3.9.7"
  }
 },
 "nbformat": 4,
 "nbformat_minor": 5
}
