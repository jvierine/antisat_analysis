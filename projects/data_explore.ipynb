{
 "cells": [
  {
   "cell_type": "code",
   "execution_count": 1,
   "id": "259ab574",
   "metadata": {},
   "outputs": [],
   "source": [
    "import numpy as np\n",
    "import matplotlib.pyplot as plt\n",
    "import pandas as pd\n",
    "import pickle\n",
    "\n",
    "#plt.style.use('dark_background')\n",
    "\n",
    "%matplotlib widget"
   ]
  },
  {
   "cell_type": "code",
   "execution_count": 2,
   "id": "fea9e915",
   "metadata": {},
   "outputs": [],
   "source": [
    "data = np.load('/home/danielk/git/antisat_analysis/projects/output/russian_asat/2021.11.23_uhf_rcs/discos_object_sizes.npz')"
   ]
  },
  {
   "cell_type": "code",
   "execution_count": 3,
   "id": "7e764605",
   "metadata": {},
   "outputs": [
    {
     "name": "stdout",
     "output_type": "stream",
     "text": [
      "measurnment_id = 0/30 number of nans\n",
      "oid = 0/30 number of nans\n",
      "min_area = 7/30 number of nans\n",
      "avg_area = 7/30 number of nans\n",
      "max_area = 7/30 number of nans\n",
      "diam = 24/30 number of nans\n"
     ]
    }
   ],
   "source": [
    "for key in data:\n",
    "    x = data[key]\n",
    "    print(f'{key} = {np.sum(np.isnan(x))}/{len(x)} number of nans')"
   ]
  },
  {
   "cell_type": "code",
   "execution_count": 4,
   "id": "42bb565e",
   "metadata": {},
   "outputs": [
    {
     "data": {
      "text/plain": [
       "(array([4., 0., 3., 0., 0., 2., 0., 5., 4., 5.]),\n",
       " array([-1.80761295, -1.51094528, -1.21427761, -0.91760993, -0.62094226,\n",
       "        -0.32427458, -0.02760691,  0.26906076,  0.56572844,  0.86239611,\n",
       "         1.15906378]),\n",
       " <BarContainer object of 10 artists>)"
      ]
     },
     "execution_count": 4,
     "metadata": {},
     "output_type": "execute_result"
    },
    {
     "data": {
      "application/vnd.jupyter.widget-view+json": {
       "model_id": "32e89b981bc440aa8fb3c31cb71d09ff",
       "version_major": 2,
       "version_minor": 0
      },
      "image/png": "[encoded data removed]",
      "text/html": [
       "\n",
       "            <div style=\"display: inline-block;\">\n",
       "                <div class=\"jupyter-widgets widget-label\" style=\"text-align: center;\">\n",
       "                    Figure\n",
       "                </div>\n",
       "                <img src='data:image/png;base64,iVBORw0KGgoAAAANSUhEUgAAAoAAAAHgCAYAAAA10dzkAAAAOXRFWHRTb2Z0d2FyZQBNYXRwbG90bGliIHZlcnNpb24zLjUuMSwgaHR0cHM6Ly9tYXRwbG90bGliLm9yZy/YYfK9AAAACXBIWXMAAA9hAAAPYQGoP6dpAAAZ7ElEQVR4nO3da4xV9bnA4XdgZOOFgSr3iApVMaKAYiVjG9FKBSQW2sQqJYrEamuwkVCtTJOKNDEQa0wvIWqaKmlSRU1EE28EqWhaAZFLRLxEKCpegIpxBlDHllnnQ0/nFEEPg+xZwPs8yfqw16w18+5/Vja/rL2HqSmKoggAANLoUPYAAAC0LwEIAJCMAAQASEYAAgAkIwABAJIRgAAAyQhAAIBkBCAAQDICEAAgGQEIAJCMAAQASEYAAgAkIwABAJIRgAAAyQhAAIBkBCAAQDICEAAgGQEIAJCMAAQASEYAAgAkIwABAJIRgAAAyQhAAIBkBCAAQDICEAAgGQEIAJCMAAQASEYAAgAkIwABAJIRgAAAyQhAAIBkBCAAQDICEAAgGQEIAJCMAAQASEYAAgAkIwABAJIRgAAAyQhAAIBkBCAAQDICEAAgGQEIAJCMAAQASEYAAgAkIwABAJIRgAAAyQhAAIBkBCAAQDICEAAgGQEIAJCMAAQASEYAAgAkIwABAJIRgAAAyQhAAIBkBCAAQDK1ZQ9wMGtpaYn33nsvunTpEjU1NWWPAwDshaIoYtu2bdG3b9/o0CHnvTAB+BW899570a9fv7LHAAD2wcaNG+PYY48te4xSCMCvoEuXLhHx7wuorq6u5GkAgL3R1NQU/fr1a/13PCMB+BX8523furo6AQgAB5nMH9/K+cY3AEBiAhAAIBkBCACQjAAEAEhGAAIAJCMAAQCSEYAAAMkIQACAZAQgAEAyAhAAIJnUAXjLLbdETU3NLtspp5xS9lgAAFWV/m8BDxo0KJ5++unWx7W16ZcEADjEpa+d2tra6N27d9ljAAC0m9RvAUdEvPHGG9G3b98YMGBATJw4Md5+++0vPLa5uTmampp22QAADjY1RVEUZQ9RlieffDK2b98eAwcOjPfffz9mzpwZ7777brz88svRpUuX3Y6/5ZZbYubMmbvtb2xsjLq6uvYYGeCQc8L0x8seoc3enD227BHazDr/n6ampujatWvqf79T3wEcM2ZMXHLJJTF48OAYNWpUPPHEE/HRRx/Fgw8+uMfjGxoaorGxsXXbuHFjO08MAPDVpf8M4H/r1q1bnHzyybFu3bo9fr1SqUSlUmnnqQAA9q/UdwA/b/v27bF+/fro06dP2aMAAFRN6gC84YYb4tlnn40333wznn/++fje974XHTt2jAkTJpQ9GgBA1aR+C/idd96JCRMmxNatW6NHjx7xrW99K5YuXRo9evQoezQAgKpJHYDz5s0rewQAgHaX+i1gAICMBCAAQDICEAAgGQEIAJCMAAQASEYAAgAkIwABAJIRgAAAyQhAAIBkBCAAQDICEAAgGQEIAJCMAAQASEYAAgAkIwABAJIRgAAAyQhAAIBkBCAAQDICEAAgGQEIAJCMAAQASEYAAgAkIwABAJIRgAAAyQhAAIBkBCAAQDICEAAgGQEIAJCMAAQASEYAAgAkIwABAJIRgAAAyQhAAIBkBCAAQDICEAAgGQEIAJCMAAQASEYAAgAkIwABAJIRgAAAyQhAAIBkBCAAQDICEAAgGQEIAJCMAAQASEYAAgAkIwABAJIRgAAAyQhAAIBkBCAAQDICEAAgGQEIAJCMAAQASEYAAgAkIwABAJIRgAAAyQhAAIBkBCAAQDICEAAgGQH4v2bPnh01NTUxderUskcBAKgqARgRy5cvj7vvvjsGDx5c9igAAFWXPgC3b98eEydOjD/84Q/xta99rexxAACqLn0ATpkyJcaOHRsjR44sexQAgHZRW/YAZZo3b16sXLkyli9fvlfHNzc3R3Nzc+vjpqamao0GAFA1aQNw48aNcf3118fChQujc+fOe3XOrFmzYubMmVWe7P+cMP3xdvtZ+8ubs8eWPQJA1R2Mr8/w39K+BbxixYrYsmVLnHnmmVFbWxu1tbXx7LPPxu9+97uora2NnTt37nZOQ0NDNDY2tm4bN24sYXIAgK8m7R3ACy64INasWbPLvsmTJ8cpp5wSN910U3Ts2HG3cyqVSlQqlfYaEQCgKtIGYJcuXeK0007bZd+RRx4ZxxxzzG77AQAOJWnfAgYAyCrtHcA9Wbx4cdkjAABUnTuAAADJCEAAgGQEIABAMgIQACAZAQgAkIwABABIRgACACQjAAEAkhGAAADJCEAAgGQEIABAMgIQACAZAQgAkIwABABIRgACACQjAAEAkhGAAADJCEAAgGQEIABAMgIQACAZAQgAkIwABABIRgACACQjAAEAkhGAAADJCEAAgGQEIABAMgIQACAZAQgAkIwABABIRgACACQjAAEAkhGAAADJCEAAgGQEIABAMgIQACAZAQgAkIwABABIRgACACQjAAEAkhGAAADJCEAAgGQEIABAMgIQACAZAQgAkIwABABIRgACACQjAAEAkhGAAADJCEAAgGQEIABAMgIQACAZAQgAkIwABABIRgACACQjAAEAkhGAAADJCEAAgGQEIABAMgIQACCZ1AF45513xuDBg6Ouri7q6uqivr4+nnzyybLHAgCoqtQBeOyxx8bs2bNjxYoV8eKLL8a3v/3tGDduXKxdu7bs0QAAqqa27AHKdPHFF+/y+NZbb40777wzli5dGoMGDSppKgCA6kodgP9t586d8dBDD8WOHTuivr5+j8c0NzdHc3Nz6+Ompqb2Gg8AYL9JH4Br1qyJ+vr6+PTTT+Ooo46K+fPnx6mnnrrHY2fNmhUzZ85s5wmpthOmP172CG325uyxZY8AwEEs9WcAIyIGDhwYq1evjmXLlsW1114bkyZNildeeWWPxzY0NERjY2PrtnHjxnaeFgDgq0t/B7BTp05x4oknRkTEsGHDYvny5fHb3/427r777t2OrVQqUalU2ntEAID9Kv0dwM9raWnZ5XN+AACHmtR3ABsaGmLMmDFx3HHHxbZt2+K+++6LxYsXx4IFC8oeDQCgalIH4JYtW+KKK66I999/P7p27RqDBw+OBQsWxHe+852yRwMAqJrUAfjHP/6x7BEAANqdzwACACQjAAEAkhGAAADJCEAAgGQEIABAMgIQACAZAQgAkIwABABIRgACACQjAAEAkhGAAADJCEAAgGQEIABAMgIQACAZAQgAkIwABABIRgACACQjAAEAkhGAAADJCEAAgGQEIABAMgIQACAZAQgAkIwABABIRgACACQjAAEAkhGAAADJCEAAgGQEIABAMgIQACAZAQgAkIwABABIRgACACQjAAEAkhGAAADJCEAAgGQEIABAMgIQACAZAQgAkIwABABIRgACACQjAAEAkhGAAADJCEAAgGQEIABAMgIQACAZAQgAkIwABABIRgACACQjAAEAkhGAAADJCEAAgGQEIABAMgIQACAZAQgAkIwABABIRgACACQjAAEAkhGAAADJpA7AWbNmxTe+8Y3o0qVL9OzZM8aPHx+vv/562WMBAFRV6gB89tlnY8qUKbF06dJYuHBh/POf/4wLL7wwduzYUfZoAABVU1v2AGV66qmndnk8d+7c6NmzZ6xYsSLOPffckqYCAKiu1AH4eY2NjRERcfTRR+/x683NzdHc3Nz6uKmpqV3mAgDYnwTg/2ppaYmpU6fGN7/5zTjttNP2eMysWbNi5syZ7TwZUJYTpj9e9ght9ubssWWPABwEUn8G8L9NmTIlXn755Zg3b94XHtPQ0BCNjY2t28aNG9txQgCA/cMdwIi47rrr4rHHHovnnnsujj322C88rlKpRKVSacfJAAD2v9QBWBRF/PSnP4358+fH4sWLo3///mWPBABQdakDcMqUKXHffffFo48+Gl26dIlNmzZFRETXrl3j8MMPL3k6AIDqSP0ZwDvvvDMaGxvjvPPOiz59+rRuDzzwQNmjAQBUTeo7gEVRlD0CAEC7S30HEAAgIwEIAJCMAAQASEYAAgAkIwABAJIRgAAAyQhAAIBkBCAAQDICEAAgGQEIAJCMAAQASEYAAgAkIwABAJIRgAAAyQhAAIBkBCAAQDICEAAgGQEIAJCMAAQASEYAAgAkIwABAJIRgAAAyQhAAIBkBCAAQDICEAAgGQEIAJCMAAQASEYAAgAkIwABAJIRgAAAyQhAAIBkBCAAQDICEAAgGQEIAJCMAAQASEYAAgAkIwABAJIRgAAAyQhAAIBkBCAAQDICEAAgGQEIAJCMAAQASEYAAgAkIwABAJIRgAAAyQhAAIBkBCAAQDICEAAgGQEIAJCMAAQASEYAAgAkIwABAJIRgAAAyQhAAIBkBCAAQDICEAAgGQEIAJCMAAQASCZ1AD733HNx8cUXR9++faOmpiYeeeSRskcCAKi61AG4Y8eOGDJkSMyZM6fsUQAA2k1t2QOUacyYMTFmzJiyxwAAaFep7wACAGSU+g5gWzU3N0dzc3Pr46amphKnAQDYN+4AtsGsWbOia9eurVu/fv3KHgkAoM0EYBs0NDREY2Nj67Zx48ayRwIAaDNvAbdBpVKJSqVS9hgAAF9J6gDcvn17rFu3rvXxhg0bYvXq1XH00UfHcccdV+JkAADVkzoAX3zxxTj//PNbH0+bNi0iIiZNmhRz584taSoAgOpKHYDnnXdeFEVR9hgAAO3KL4EAACQjAAEAkhGAAADJCEAAgGQEIABAMgIQACAZAQgAkIwABABIRgACACQjAAEAkhGAAADJCEAAgGQEIABAMgIQACAZAQgAkIwABABIRgACACQjAAEAkhGAAADJCEAAgGQEIABAMgIQACAZAQgAkIwABABIRgACACQjAAEAkhGAAADJCEAAgGQEIABAMgIQACAZAQgAkIwABABIRgACACQjAAEAkhGAAADJCEAAgGQEIABAMgIQACAZAQgAkIwABABIRgACACQjAAEAkhGAAADJCEAAgGQEIABAMgIQACAZAQgAkIwABABIRgACACQjAAEAkhGAAADJCEAAgGQEIABAMgIQACAZAQgAkIwABABIRgACACQjAAEAkhGAAADJCEAAgGTSB+CcOXPihBNOiM6dO8fw4cPjhRdeKHskAICqSh2ADzzwQEybNi1mzJgRK1eujCFDhsSoUaNiy5YtZY8GAFA1qQPwjjvuiKuvvjomT54cp556atx1111xxBFHxD333FP2aAAAVVNb9gBl+eyzz2LFihXR0NDQuq9Dhw4xcuTIWLJkyR7PaW5ujubm5tbHjY2NERHR1NRUlRlbmj+uyvetpmqtRTVZZ76Ia6N9HIzrTPuo1vX8n+9bFEVVvv/BIG0AfvDBB7Fz587o1avXLvt79eoVr7322h7PmTVrVsycOXO3/f369avKjAejrr8pe4IcrDNfxLXBoaTa1/O2bduia9eu1f0hB6i0AbgvGhoaYtq0aa2PW1pa4sMPP4xjjjkmampqSpzswNHU1BT9+vWLjRs3Rl1dXdnjHPCsV9tYr7axXm1jvdrmYF6voihi27Zt0bdv37JHKU3aAOzevXt07NgxNm/evMv+zZs3R+/evfd4TqVSiUqlssu+bt26VWvEg1pdXd1B94JQJuvVNtarbaxX21ivtjlY1yvrnb//SPtLIJ06dYphw4bFokWLWve1tLTEokWLor6+vsTJAACqK+0dwIiIadOmxaRJk+Kss86Ks88+O37zm9/Ejh07YvLkyWWPBgBQNakD8NJLL41//OMfcfPNN8emTZti6NCh8dRTT+32iyHsvUqlEjNmzNjtrXL2zHq1jfVqG+vVNtarbazXwa2myPw70AAACaX9DCAAQFYCEAAgGQEIAJCMAAQASEYA8pXdeuutcc4558QRRxyx1/8x9pVXXhk1NTW7bKNHj67uoAeIfVmvoiji5ptvjj59+sThhx8eI0eOjDfeeKO6gx4gPvzww5g4cWLU1dVFt27d4qqrrort27d/6TnnnXfebtfXT37yk3aauH3NmTMnTjjhhOjcuXMMHz48XnjhhS89/qGHHopTTjklOnfuHKeffno88cQT7TTpgaEt6zV37tzdrqPOnTu347Tleu655+Liiy+Ovn37Rk1NTTzyyCP/7zmLFy+OM888MyqVSpx44okxd+7cqs/JvhGAfGWfffZZXHLJJXHttde26bzRo0fH+++/37rdf//9VZrwwLIv63XbbbfF7373u7jrrrti2bJlceSRR8aoUaPi008/reKkB4aJEyfG2rVrY+HChfHYY4/Fc889F9dcc83/e97VV1+9y/V12223tcO07euBBx6IadOmxYwZM2LlypUxZMiQGDVqVGzZsmWPxz///PMxYcKEuOqqq2LVqlUxfvz4GD9+fLz88svtPHk52rpeEf/+Kxf/fR299dZb7ThxuXbs2BFDhgyJOXPm7NXxGzZsiLFjx8b5558fq1evjqlTp8aPfvSjWLBgQZUnZZ8UsJ/ce++9RdeuXffq2EmTJhXjxo2r6jwHur1dr5aWlqJ3797Fr3/969Z9H330UVGpVIr777+/ihOW75VXXikioli+fHnrvieffLKoqakp3n333S88b8SIEcX111/fDhOW6+yzzy6mTJnS+njnzp1F3759i1mzZu3x+B/84AfF2LFjd9k3fPjw4sc//nFV5zxQtHW92vKadqiLiGL+/PlfeszPf/7zYtCgQbvsu/TSS4tRo0ZVcTL2lTuAlGbx4sXRs2fPGDhwYFx77bWxdevWskc6IG3YsCE2bdoUI0eObN3XtWvXGD58eCxZsqTEyapvyZIl0a1btzjrrLNa940cOTI6dOgQy5Yt+9Jz//znP0f37t3jtNNOi4aGhvj444+rPW67+uyzz2LFihW7XBcdOnSIkSNHfuF1sWTJkl2Oj4gYNWrUIX8dRezbekVEbN++PY4//vjo169fjBs3LtauXdse4x6UMl9fB6PUfwmE8owePTq+//3vR//+/WP9+vXxi1/8IsaMGRNLliyJjh07lj3eAWXTpk0REbv9hZpevXq1fu1QtWnTpujZs+cu+2pra+Poo4/+0uf+wx/+MI4//vjo27dvvPTSS3HTTTfF66+/Hg8//HC1R243H3zwQezcuXOP18Vrr722x3M2bdqU8jqK2Lf1GjhwYNxzzz0xePDgaGxsjNtvvz3OOeecWLt2bRx77LHtMfZB5Yuur6ampvjkk0/i8MMPL2ky9sQdQPZo+vTpu334+fPbF71o7o3LLrssvvvd78bpp58e48ePj8ceeyyWL18eixcv3n9Poh1Ve70ONdVer2uuuSZGjRoVp59+ekycODH+9Kc/xfz582P9+vX78VlwqKuvr48rrrgihg4dGiNGjIiHH344evToEXfffXfZo8FX5g4ge/Szn/0srrzyyi89ZsCAAfvt5w0YMCC6d+8e69atiwsuuGC/fd/2Us316t27d0REbN68Ofr06dO6f/PmzTF06NB9+p5l29v16t27924f0P/Xv/4VH374Yeu67I3hw4dHRMS6devi61//epvnPRB17949OnbsGJs3b95l/+bNm79wbXr37t2m4w8l+7Jen3fYYYfFGWecEevWravGiAe9L7q+6urq3P07AAlA9qhHjx7Ro0ePdvt577zzTmzdunWXwDmYVHO9+vfvH717945Fixa1Bl9TU1MsW7aszb95faDY2/Wqr6+Pjz76KFasWBHDhg2LiIi//OUv0dLS0hp1e2P16tUREQft9bUnnTp1imHDhsWiRYti/PjxERHR0tISixYtiuuuu26P59TX18eiRYti6tSprfsWLlwY9fX17TBxufZlvT5v586dsWbNmrjooouqOOnBq76+frf/VijL9XVQKvu3UDj4vfXWW8WqVauKmTNnFkcddVSxatWqYtWqVcW2bdtajxk4cGDx8MMPF0VRFNu2bStuuOGGYsmSJcWGDRuKp59+ujjzzDOLk046qfj000/Lehrtpq3rVRRFMXv27KJbt27Fo48+Wrz00kvFuHHjiv79+xeffPJJGU+hXY0ePbo444wzimXLlhV//etfi5NOOqmYMGFC69ffeeedYuDAgcWyZcuKoiiKdevWFb/61a+KF198sdiwYUPx6KOPFgMGDCjOPffcsp5C1cybN6+oVCrF3Llzi1deeaW45pprim7duhWbNm0qiqIoLr/88mL69Omtx//tb38ramtri9tvv7149dVXixkzZhSHHXZYsWbNmrKeQrtq63rNnDmzWLBgQbF+/fpixYoVxWWXXVZ07ty5WLt2bVlPoV1t27at9fUpIoo77rijWLVqVfHWW28VRVEU06dPLy6//PLW4//+978XRxxxRHHjjTcWr776ajFnzpyiY8eOxVNPPVXWU+BLCEC+skmTJhURsdv2zDPPtB4TEcW9995bFEVRfPzxx8WFF15Y9OjRozjssMOK448/vrj66qtbX4QPdW1dr6L4938F88tf/rLo1atXUalUigsuuKB4/fXX23/4EmzdurWYMGFCcdRRRxV1dXXF5MmTd4nlDRs27LJ+b7/9dnHuuecWRx99dFGpVIoTTzyxuPHGG4vGxsaSnkF1/f73vy+OO+64olOnTsXZZ59dLF26tPVrI0aMKCZNmrTL8Q8++GBx8sknF506dSoGDRpUPP744+08cbnasl5Tp05tPbZXr17FRRddVKxcubKEqcvxzDPP7PG16j9rNGnSpGLEiBG7nTN06NCiU6dOxYABA3Z5HePAUlMURdHONx0BACiR3wIGAEhGAAIAJCMAAQCSEYAAAMkIQACAZAQgAEAyAhAAIBkBCACQjAAEAEhGAAIAJCMAAQCSEYAAAMkIQACAZAQgAEAyAhAAIBkBCACQjAAEAEhGAAIAJCMAAQCSEYAAAMkIQACAZAQgAEAyAhAAIBkBCACQjAAEAEhGAAIAJCMAAQCSEYAAAMkIQACAZAQgAEAyAhAAIJn/AR+LFJKKRqYxAAAAAElFTkSuQmCC' width=640.0/>\n",
       "            </div>\n",
       "        "
      ],
      "text/plain": [
       "Canvas(toolbar=Toolbar(toolitems=[('Home', 'Reset original view', 'home', 'home'), ('Back', 'Back to previous …"
      ]
     },
     "metadata": {},
     "output_type": "display_data"
    }
   ],
   "source": [
    "plt.hist(np.log10(data['avg_area']))"
   ]
  },
  {
   "cell_type": "code",
   "execution_count": null,
   "id": "aaf9485d",
   "metadata": {},
   "outputs": [],
   "source": [
    "for oid, A, minA, maxA, d in zip(data['oid'], data['avg_area'], data['min_area'], data['max_area'], data['diam']):\n",
    "    print(f'OID-{int(oid)}: avg. A = {A} [{minA},{maxA}], d={d}')"
   ]
  },
  {
   "cell_type": "code",
   "execution_count": null,
   "id": "797e0b5b",
   "metadata": {},
   "outputs": [],
   "source": [
    "plt.errorbar(\n",
    "    np.arange(len(data['oid'])),\n",
    "    data['avg_area'],\n",
    "    np.vstack([\n",
    "        data['avg_area'] - data['min_area'],\n",
    "        data['max_area'] - data['avg_area'],\n",
    "    ]),\n",
    ")"
   ]
  },
  {
   "cell_type": "code",
   "execution_count": null,
   "id": "67474391",
   "metadata": {},
   "outputs": [],
   "source": [
    "file = '/home/danielk/git/antisat_analysis/projects/output/russian_asat/2021.11.23_uhf_rcs/uhf_20211123_124927_000000/uhf_20211123_124927_000000_results.pickle'\n",
    "with open(file, 'rb') as fh:\n",
    "    res = pickle.load(fh)"
   ]
  },
  {
   "cell_type": "code",
   "execution_count": null,
   "id": "23fd85c9",
   "metadata": {},
   "outputs": [],
   "source": [
    "plt.hist(res['best_matches'])"
   ]
  },
  {
   "cell_type": "code",
   "execution_count": null,
   "id": "f8fb3a53",
   "metadata": {},
   "outputs": [],
   "source": [
    "plt.hist(res['best_matches'][res['best_matches'] > 0.9])"
   ]
  },
  {
   "cell_type": "code",
   "execution_count": null,
   "id": "06ab2b0c",
   "metadata": {},
   "outputs": [],
   "source": [
    "plt.hist(res['best_matches'][res['best_matches'] > 0.95])"
   ]
  },
  {
   "cell_type": "code",
   "execution_count": null,
   "id": "6aa9caff",
   "metadata": {},
   "outputs": [],
   "source": [
    "match_limit = np.percentile(res['best_matches'], 100 - 0.3)\n",
    "print(match_limit)\n",
    "inds = res['best_matches'] > match_limit\n",
    "not_inds = np.logical_not(inds)\n",
    "fig, ax = plt.subplots(figsize=(12,8))\n",
    "ax.plot(np.log10(res['best_diams'][inds]), res['best_matches'][inds], '.r')\n",
    "ax.plot(np.log10(res['best_diams'][not_inds]), res['best_matches'][not_inds], '.b')\n",
    "ax.set_ylim([0.8,1])"
   ]
  },
  {
   "cell_type": "code",
   "execution_count": null,
   "id": "1780d6f2",
   "metadata": {},
   "outputs": [],
   "source": [
    "from scipy.stats import norm\n",
    "x = np.linspace(-2, 2, 2000)\n",
    "y = np.zeros_like(x)\n",
    "for j in np.argwhere(inds).flatten():\n",
    "    y += norm.pdf(x, loc=np.log10(res['best_diams'][j]), scale=0.05)\n",
    "y_ = norm.pdf(x, loc=0, scale=0.1)\n",
    "y[y > y_.max()*0.5] = y_.max()*0.5\n",
    "y[x < np.min(np.log10(res['best_diams'][inds]))] = 0\n",
    "y[x > np.max(np.log10(res['best_diams'][inds]))] = 0\n",
    "plt.plot(x, y/(y_.max()*0.5))"
   ]
  },
  {
   "cell_type": "code",
   "execution_count": null,
   "id": "9a091b8d",
   "metadata": {},
   "outputs": [],
   "source": [
    "inds = res['best_matches'] > 0.95\n",
    "not_inds = np.logical_not(inds)\n",
    "fig, ax = plt.subplots(figsize=(12,8))\n",
    "ax.plot(np.log10(res['best_diams'][inds]), res['best_matches'][inds], '.r')\n",
    "ax.plot(np.log10(res['best_diams'][not_inds]), res['best_matches'][not_inds], '.b')\n",
    "ax.set_ylim([0.8,1])"
   ]
  },
  {
   "cell_type": "code",
   "execution_count": null,
   "id": "34bec612",
   "metadata": {},
   "outputs": [],
   "source": [
    "fig, ax = plt.subplots(figsize=(12,8))\n",
    "ax.hist(res['best_matches'][res['best_matches'] > 0.95])\n",
    "ax.axvline(0.98, color='r')"
   ]
  },
  {
   "cell_type": "code",
   "execution_count": null,
   "id": "30bf9317",
   "metadata": {},
   "outputs": [],
   "source": [
    "plt.plot(res['best_matches'][res['best_matches'] > 0.95])"
   ]
  },
  {
   "cell_type": "code",
   "execution_count": null,
   "id": "89a9ce75",
   "metadata": {},
   "outputs": [],
   "source": [
    "plt.plot(np.diff(res['best_matches'][res['best_matches'] > 0.95]))"
   ]
  },
  {
   "cell_type": "code",
   "execution_count": null,
   "id": "cf5ba1ae",
   "metadata": {},
   "outputs": [],
   "source": [
    "diams = res['best_diams'][res['best_matches'] > 0.98]"
   ]
  },
  {
   "cell_type": "code",
   "execution_count": null,
   "id": "fa803163",
   "metadata": {},
   "outputs": [],
   "source": [
    "diams"
   ]
  },
  {
   "cell_type": "code",
   "execution_count": null,
   "id": "52132e28",
   "metadata": {},
   "outputs": [],
   "source": [
    "print(np.mean(diams), np.std(diams))\n"
   ]
  },
  {
   "cell_type": "code",
   "execution_count": null,
   "id": "6d18a455",
   "metadata": {},
   "outputs": [],
   "source": [
    "len(diams) / len(res['best_diams'])"
   ]
  },
  {
   "cell_type": "code",
   "execution_count": null,
   "id": "6650f930",
   "metadata": {},
   "outputs": [],
   "source": [
    "sum_file = '/home/danielk/git/antisat_analysis/projects/output/russian_asat/2021.11.23_uhf_rcs/collected_results.pickle'\n",
    "with open(sum_file, 'rb') as fh:\n",
    "    summary_data = pickle.load(fh)"
   ]
  },
  {
   "cell_type": "code",
   "execution_count": null,
   "id": "7171f438",
   "metadata": {},
   "outputs": [],
   "source": [
    "df = pd.DataFrame(summary_data)"
   ]
  },
  {
   "cell_type": "code",
   "execution_count": null,
   "id": "955608c0",
   "metadata": {},
   "outputs": [],
   "source": [
    "df"
   ]
  },
  {
   "cell_type": "code",
   "execution_count": null,
   "id": "a0e2b325",
   "metadata": {},
   "outputs": [],
   "source": [
    "plt.hist(df['estimated_offset_angle'])"
   ]
  },
  {
   "cell_type": "code",
   "execution_count": null,
   "id": "90d26e40",
   "metadata": {},
   "outputs": [],
   "source": [
    "def log_hist(x):\n",
    "    logbins = np.logspace(np.log10(x.min()),np.log10(x.max()),int(np.sqrt(len(x))))\n",
    "    plt.hist(x, bins=logbins)\n",
    "    plt.xscale('log')"
   ]
  },
  {
   "cell_type": "code",
   "execution_count": null,
   "id": "05177a32",
   "metadata": {},
   "outputs": [],
   "source": [
    "log_hist(df['estimated_diam']*1e2)\n",
    "#plt.hist(np.log10(df['estimated_diam']*1e2))"
   ]
  },
  {
   "cell_type": "code",
   "execution_count": null,
   "id": "2d0e9bfa",
   "metadata": {},
   "outputs": [],
   "source": [
    "log_hist(df['predicted_diam']*1e2)\n",
    "#plt.hist(np.log10(df['predicted_diam']*1e2))"
   ]
  },
  {
   "cell_type": "code",
   "execution_count": null,
   "id": "e538c972",
   "metadata": {},
   "outputs": [],
   "source": [
    "df['predicted_offset_angle'].values[np.logical_not(np.isnan(df['predicted_offset_angle']))]"
   ]
  },
  {
   "cell_type": "code",
   "execution_count": null,
   "id": "b52ad4a3",
   "metadata": {
    "scrolled": true
   },
   "outputs": [],
   "source": [
    "log_hist(df['predicted_offset_angle'])"
   ]
  },
  {
   "cell_type": "code",
   "execution_count": null,
   "id": "f91ec419",
   "metadata": {},
   "outputs": [],
   "source": [
    "log_hist(df['estimated_offset_angle'])"
   ]
  },
  {
   "cell_type": "code",
   "execution_count": null,
   "id": "4b362f07",
   "metadata": {},
   "outputs": [],
   "source": [
    "log_hist(np.abs(df['estimated_diam'] - df['predicted_diam'])*1e2)\n",
    "#plt.hist((df['estimated_diam'] - df['predicted_diam'])*1e2)"
   ]
  },
  {
   "cell_type": "code",
   "execution_count": null,
   "id": "e1781520",
   "metadata": {},
   "outputs": [],
   "source": [
    "discos_d_diff = df['estimated_diam'] - df['discos_avg_diam']\n",
    "discos_est_inds = np.argwhere(np.logical_not(np.isnan(discos_d_diff.values))).flatten()\n",
    "for ind in discos_est_inds:\n",
    "    print(f'\\nIND={ind}')\n",
    "    print('Discos:')\n",
    "    print(\n",
    "        df['discos_min_diam'].values[ind]*1e2,\n",
    "        df['discos_avg_diam'].values[ind]*1e2,\n",
    "        df['discos_max_diam'].values[ind]*1e2,\n",
    "    )\n",
    "    print('Predicted:')\n",
    "    print(\n",
    "        df['predicted_diam'].values[ind]*1e2,\n",
    "    )\n",
    "    print('Estimated:')\n",
    "    print(\n",
    "        df['estimated_min_diam'].values[ind]*1e2,\n",
    "        df['estimated_diam'].values[ind]*1e2,\n",
    "        df['estimated_max_diam'].values[ind]*1e2,\n",
    "    )"
   ]
  },
  {
   "cell_type": "code",
   "execution_count": null,
   "id": "cd57cdd8",
   "metadata": {},
   "outputs": [],
   "source": [
    "\n"
   ]
  }
 ],
 "metadata": {
  "kernelspec": {
   "display_name": "Python 3 (ipykernel)",
   "language": "python",
   "name": "python3"
  },
  "language_info": {
   "codemirror_mode": {
    "name": "ipython",
    "version": 3
   },
   "file_extension": ".py",
   "mimetype": "text/x-python",
   "name": "python",
   "nbconvert_exporter": "python",
   "pygments_lexer": "ipython3",
   "version": "3.10.2"
  }
 },
 "nbformat": 4,
 "nbformat_minor": 5
}
