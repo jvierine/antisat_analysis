{
 "cells": [
  {
   "cell_type": "code",
   "execution_count": 1,
   "id": "259ab574",
   "metadata": {},
   "outputs": [],
   "source": [
    "import numpy as np\n",
    "import matplotlib.pyplot as plt\n",
    "import pandas as pd\n",
    "import pickle\n",
    "\n",
    "plt.style.use('dark_background')\n",
    "\n",
    "%matplotlib inline"
   ]
  },
  {
   "cell_type": "code",
   "execution_count": 2,
   "id": "fea9e915",
   "metadata": {},
   "outputs": [],
   "source": [
    "data = np.load('/home/danielk/git/antisat_analysis/projects/output/russian_asat/2021.11.23_uhf_rcs/discos_object_sizes.npz')"
   ]
  },
  {
   "cell_type": "code",
   "execution_count": 3,
   "id": "7e764605",
   "metadata": {},
   "outputs": [
    {
     "name": "stdout",
     "output_type": "stream",
     "text": [
      "measurnment_id = 0/30 number of nans\n",
      "oid = 0/30 number of nans\n",
      "min_area = 7/30 number of nans\n",
      "avg_area = 7/30 number of nans\n",
      "max_area = 7/30 number of nans\n",
      "diam = 24/30 number of nans\n"
     ]
    }
   ],
   "source": [
    "for key in data:\n",
    "    x = data[key]\n",
    "    print(f'{key} = {np.sum(np.isnan(x))}/{len(x)} number of nans')"
   ]
  },
  {
   "cell_type": "code",
   "execution_count": 4,
   "id": "42bb565e",
   "metadata": {},
   "outputs": [
    {
     "data": {
      "text/plain": [
       "(array([4., 0., 3., 0., 0., 2., 0., 5., 4., 5.]),\n",
       " array([-1.80761295, -1.51094528, -1.21427761, -0.91760993, -0.62094226,\n",
       "        -0.32427458, -0.02760691,  0.26906076,  0.56572844,  0.86239611,\n",
       "         1.15906378]),\n",
       " <BarContainer object of 10 artists>)"
      ]
     },
     "execution_count": 4,
     "metadata": {},
     "output_type": "execute_result"
    },
    {
     "data": {
      "image/png": "[encoded data removed]",
      "text/plain": [
       "<Figure size 432x288 with 1 Axes>"
      ]
     },
     "metadata": {
      "needs_background": "dark"
     },
     "output_type": "display_data"
    }
   ],
   "source": [
    "plt.hist(np.log10(data['avg_area']))"
   ]
  },
  {
   "cell_type": "code",
   "execution_count": 5,
   "id": "aaf9485d",
   "metadata": {},
   "outputs": [
    {
     "name": "stdout",
     "output_type": "stream",
     "text": [
      "OID-46275: avg. A = 0.625 [0.25,0.75], d=nan\n",
      "OID-43013: avg. A = 8.4344 [1.96,14.5605065764063], d=nan\n",
      "OID-43656: avg. A = nan [nan,nan], d=nan\n",
      "OID-46396: avg. A = 9.2307 [4.0,16.5284], d=nan\n",
      "OID-42805: avg. A = 14.4232716911764 [1.8988,21.3256], d=1.5\n",
      "OID-43193: avg. A = 0.0254160184615763 [0.02,0.0314159265358979], d=0.2\n",
      "OID-43255: avg. A = 14.4232716911764 [1.8988,21.3256], d=1.5\n",
      "OID-46465: avg. A = nan [nan,nan], d=nan\n",
      "OID-46480: avg. A = nan [nan,nan], d=nan\n",
      "OID-48042: avg. A = 2.88533333333333 [1.0,5.2931349405062], d=nan\n",
      "OID-48047: avg. A = 2.88533333333333 [1.0,5.2931349405062], d=nan\n",
      "OID-43348: avg. A = nan [nan,nan], d=nan\n",
      "OID-44890: avg. A = nan [nan,nan], d=nan\n",
      "OID-49301: avg. A = 2.88533333333333 [1.0,5.2931349405062], d=nan\n",
      "OID-43097: avg. A = 0.0254 [0.02,0.0314], d=nan\n",
      "OID-43476: avg. A = 5.60268585219263 [1.70431401457246,10.0881068590692], d=nan\n",
      "OID-43477: avg. A = 5.60268585219263 [1.70431401457246,10.0881068590692], d=nan\n",
      "OID-46320: avg. A = 0.08 [0.04,0.0938083151964686], d=nan\n",
      "OID-46956: avg. A = 0.0155735294117646 [0.0095,0.0281], d=nan\n",
      "OID-43696: avg. A = 0.02625 [0.015,0.0309232921921325], d=nan\n",
      "OID-47205: avg. A = nan [nan,nan], d=nan\n",
      "OID-43740: avg. A = 0.107892647058823 [0.0223,0.1911], d=nan\n",
      "OID-43733: avg. A = 0.107892647058823 [0.0223,0.1911], d=nan\n",
      "OID-43763: avg. A = 6.44026493985908 [3.14159265358979,6.9505110891998], d=2.0\n",
      "OID-43831: avg. A = 4.0 [2.0,4.89897948556636], d=nan\n",
      "OID-44208: avg. A = 0.785398163397448 [0.5,0.931047944559293], d=1.0\n",
      "OID-46929: avg. A = nan [nan,nan], d=nan\n",
      "OID-43927: avg. A = 14.4232716911764 [1.8988,21.3256], d=1.5\n",
      "OID-48211: avg. A = 2.88533333333333 [1.0,5.2931349405062], d=nan\n",
      "OID-48213: avg. A = 2.88533333333333 [1.0,5.2931349405062], d=nan\n"
     ]
    }
   ],
   "source": [
    "for oid, A, minA, maxA, d in zip(data['oid'], data['avg_area'], data['min_area'], data['max_area'], data['diam']):\n",
    "    print(f'OID-{int(oid)}: avg. A = {A} [{minA},{maxA}], d={d}')"
   ]
  },
  {
   "cell_type": "code",
   "execution_count": 6,
   "id": "797e0b5b",
   "metadata": {},
   "outputs": [
    {
     "data": {
      "text/plain": [
       "<ErrorbarContainer object of 3 artists>"
      ]
     },
     "execution_count": 6,
     "metadata": {},
     "output_type": "execute_result"
    },
    {
     "data": {
      "image/png": "[encoded data removed]",
      "text/plain": [
       "<Figure size 432x288 with 1 Axes>"
      ]
     },
     "metadata": {
      "needs_background": "dark"
     },
     "output_type": "display_data"
    }
   ],
   "source": [
    "plt.errorbar(\n",
    "    np.arange(len(data['oid'])),\n",
    "    data['avg_area'],\n",
    "    np.vstack([\n",
    "        data['avg_area'] - data['min_area'],\n",
    "        data['max_area'] - data['avg_area'],\n",
    "    ]),\n",
    ")"
   ]
  },
  {
   "cell_type": "code",
   "execution_count": 7,
   "id": "67474391",
   "metadata": {},
   "outputs": [],
   "source": [
    "file = '/home/danielk/git/antisat_analysis/projects/output/russian_asat/2021.11.23_uhf_rcs/uhf_20211123_124927_000000/uhf_20211123_124927_000000_results.pickle'\n",
    "with open(file, 'rb') as fh:\n",
    "    res = pickle.load(fh)"
   ]
  },
  {
   "cell_type": "code",
   "execution_count": 8,
   "id": "23fd85c9",
   "metadata": {},
   "outputs": [
    {
     "data": {
      "text/plain": [
       "(array([3603., 1034.,  827.,  690.,  662.,  744.,  953.,  753.,  432.,\n",
       "         302.]),\n",
       " array([0.        , 0.09875692, 0.19751384, 0.29627076, 0.39502768,\n",
       "        0.49378459, 0.59254151, 0.69129843, 0.79005535, 0.88881227,\n",
       "        0.98756919]),\n",
       " <BarContainer object of 10 artists>)"
      ]
     },
     "execution_count": 8,
     "metadata": {},
     "output_type": "execute_result"
    },
    {
     "data": {
      "image/png": "[encoded data removed]",
      "text/plain": [
       "<Figure size 432x288 with 1 Axes>"
      ]
     },
     "metadata": {
      "needs_background": "dark"
     },
     "output_type": "display_data"
    }
   ],
   "source": [
    "plt.hist(res['best_matches'])"
   ]
  },
  {
   "cell_type": "code",
   "execution_count": 9,
   "id": "f8fb3a53",
   "metadata": {},
   "outputs": [
    {
     "data": {
      "text/plain": [
       "(array([31., 42., 41., 35., 26., 21., 12.,  8., 15., 32.]),\n",
       " array([0.90009034, 0.90883822, 0.91758611, 0.92633399, 0.93508188,\n",
       "        0.94382976, 0.95257765, 0.96132553, 0.97007342, 0.9788213 ,\n",
       "        0.98756919]),\n",
       " <BarContainer object of 10 artists>)"
      ]
     },
     "execution_count": 9,
     "metadata": {},
     "output_type": "execute_result"
    },
    {
     "data": {
      "image/png": "[encoded data removed]",
      "text/plain": [
       "<Figure size 432x288 with 1 Axes>"
      ]
     },
     "metadata": {
      "needs_background": "dark"
     },
     "output_type": "display_data"
    }
   ],
   "source": [
    "plt.hist(res['best_matches'][res['best_matches'] > 0.9])"
   ]
  },
  {
   "cell_type": "code",
   "execution_count": 10,
   "id": "06ab2b0c",
   "metadata": {},
   "outputs": [
    {
     "data": {
      "text/plain": [
       "(array([ 5.,  4.,  6.,  2.,  4., 10.,  4.,  6.,  8., 21.]),\n",
       " array([0.95008746, 0.95383563, 0.95758381, 0.96133198, 0.96508015,\n",
       "        0.96882832, 0.9725765 , 0.97632467, 0.98007284, 0.98382102,\n",
       "        0.98756919]),\n",
       " <BarContainer object of 10 artists>)"
      ]
     },
     "execution_count": 10,
     "metadata": {},
     "output_type": "execute_result"
    },
    {
     "data": {
      "image/png": "[encoded data removed]",
      "text/plain": [
       "<Figure size 432x288 with 1 Axes>"
      ]
     },
     "metadata": {
      "needs_background": "dark"
     },
     "output_type": "display_data"
    }
   ],
   "source": [
    "plt.hist(res['best_matches'][res['best_matches'] > 0.95])"
   ]
  },
  {
   "cell_type": "code",
   "execution_count": 11,
   "id": "9a091b8d",
   "metadata": {},
   "outputs": [
    {
     "data": {
      "text/plain": [
       "(0.8, 1.0)"
      ]
     },
     "execution_count": 11,
     "metadata": {},
     "output_type": "execute_result"
    },
    {
     "data": {
      "image/png": "[encoded data removed]",
      "text/plain": [
       "<Figure size 864x576 with 1 Axes>"
      ]
     },
     "metadata": {
      "needs_background": "dark"
     },
     "output_type": "display_data"
    }
   ],
   "source": [
    "inds = res['best_matches'] > 0.95\n",
    "not_inds = np.logical_not(inds)\n",
    "fig, ax = plt.subplots(figsize=(12,8))\n",
    "ax.plot(np.log10(res['best_diams'][inds]), res['best_matches'][inds], '.r')\n",
    "ax.plot(np.log10(res['best_diams'][not_inds]), res['best_matches'][not_inds], '.b')\n",
    "ax.set_ylim([0.8,1])"
   ]
  },
  {
   "cell_type": "code",
   "execution_count": 12,
   "id": "34bec612",
   "metadata": {},
   "outputs": [
    {
     "data": {
      "text/plain": [
       "<matplotlib.lines.Line2D at 0x7f2420a24be0>"
      ]
     },
     "execution_count": 12,
     "metadata": {},
     "output_type": "execute_result"
    },
    {
     "data": {
      "image/png": "[encoded data removed]",
      "text/plain": [
       "<Figure size 864x576 with 1 Axes>"
      ]
     },
     "metadata": {
      "needs_background": "dark"
     },
     "output_type": "display_data"
    }
   ],
   "source": [
    "fig, ax = plt.subplots(figsize=(12,8))\n",
    "ax.hist(res['best_matches'][res['best_matches'] > 0.95])\n",
    "ax.axvline(0.98, color='r')"
   ]
  },
  {
   "cell_type": "code",
   "execution_count": 13,
   "id": "30bf9317",
   "metadata": {},
   "outputs": [
    {
     "data": {
      "text/plain": [
       "[<matplotlib.lines.Line2D at 0x7f2420960250>]"
      ]
     },
     "execution_count": 13,
     "metadata": {},
     "output_type": "execute_result"
    },
    {
     "data": {
      "image/png": "[encoded data removed]",
      "text/plain": [
       "<Figure size 432x288 with 1 Axes>"
      ]
     },
     "metadata": {
      "needs_background": "dark"
     },
     "output_type": "display_data"
    }
   ],
   "source": [
    "plt.plot(res['best_matches'][res['best_matches'] > 0.95])"
   ]
  },
  {
   "cell_type": "code",
   "execution_count": 14,
   "id": "89a9ce75",
   "metadata": {},
   "outputs": [
    {
     "data": {
      "text/plain": [
       "[<matplotlib.lines.Line2D at 0x7f2420942c40>]"
      ]
     },
     "execution_count": 14,
     "metadata": {},
     "output_type": "execute_result"
    },
    {
     "data": {
      "image/png": "[encoded data removed]",
      "text/plain": [
       "<Figure size 432x288 with 1 Axes>"
      ]
     },
     "metadata": {
      "needs_background": "dark"
     },
     "output_type": "display_data"
    }
   ],
   "source": [
    "plt.plot(np.diff(res['best_matches'][res['best_matches'] > 0.95]))"
   ]
  },
  {
   "cell_type": "code",
   "execution_count": 15,
   "id": "cf5ba1ae",
   "metadata": {},
   "outputs": [],
   "source": [
    "diams = res['best_diams'][res['best_matches'] > 0.98]"
   ]
  },
  {
   "cell_type": "code",
   "execution_count": 16,
   "id": "fa803163",
   "metadata": {},
   "outputs": [
    {
     "data": {
      "text/plain": [
       "array([0.03655748, 0.03704866, 0.0359097 , 2.97439192, 0.03561886,\n",
       "       0.03863809, 0.03808539, 0.03327058, 0.05568107, 0.03332784,\n",
       "       0.03389246, 0.04035748, 0.04264669, 0.04176449, 0.03378445,\n",
       "       0.03358995, 0.03422224, 0.03349164, 0.03444058, 0.03974601,\n",
       "       0.03511154, 0.03487414, 0.05368949, 0.06308381, 0.0494354 ,\n",
       "       3.26460971, 1.92683779, 0.43459037, 0.04467903])"
      ]
     },
     "execution_count": 16,
     "metadata": {},
     "output_type": "execute_result"
    }
   ],
   "source": [
    "diams"
   ]
  },
  {
   "cell_type": "code",
   "execution_count": 17,
   "id": "52132e28",
   "metadata": {},
   "outputs": [
    {
     "name": "stdout",
     "output_type": "stream",
     "text": [
      "0.3308060991508167 0.8361170057028735\n"
     ]
    }
   ],
   "source": [
    "print(np.mean(diams), np.std(diams))\n"
   ]
  },
  {
   "cell_type": "code",
   "execution_count": 18,
   "id": "6d18a455",
   "metadata": {},
   "outputs": [
    {
     "data": {
      "text/plain": [
       "0.0029"
      ]
     },
     "execution_count": 18,
     "metadata": {},
     "output_type": "execute_result"
    }
   ],
   "source": [
    "len(diams) / len(res['best_diams'])"
   ]
  },
  {
   "cell_type": "code",
   "execution_count": 19,
   "id": "6650f930",
   "metadata": {},
   "outputs": [],
   "source": [
    "sum_file = '/home/danielk/git/antisat_analysis/projects/output/russian_asat/2021.11.23_uhf_rcs/collected_results.pickle'\n",
    "with open(sum_file, 'rb') as fh:\n",
    "    summary_data = pickle.load(fh)"
   ]
  },
  {
   "cell_type": "code",
   "execution_count": 20,
   "id": "7171f438",
   "metadata": {},
   "outputs": [],
   "source": [
    "df = pd.DataFrame(summary_data)"
   ]
  },
  {
   "cell_type": "code",
   "execution_count": 21,
   "id": "955608c0",
   "metadata": {},
   "outputs": [
    {
     "data": {
      "text/html": [
       "<div>\n",
       "<style scoped>\n",
       "    .dataframe tbody tr th:only-of-type {\n",
       "        vertical-align: middle;\n",
       "    }\n",
       "\n",
       "    .dataframe tbody tr th {\n",
       "        vertical-align: top;\n",
       "    }\n",
       "\n",
       "    .dataframe thead th {\n",
       "        text-align: right;\n",
       "    }\n",
       "</style>\n",
       "<table border=\"1\" class=\"dataframe\">\n",
       "  <thead>\n",
       "    <tr style=\"text-align: right;\">\n",
       "      <th></th>\n",
       "      <th>measurnment_id</th>\n",
       "      <th>event_name</th>\n",
       "      <th>correlated</th>\n",
       "      <th>object_id</th>\n",
       "      <th>norad_id</th>\n",
       "      <th>SNR</th>\n",
       "      <th>range</th>\n",
       "      <th>doppler</th>\n",
       "      <th>estimated_offset_angle</th>\n",
       "      <th>estimated_diam</th>\n",
       "      <th>...</th>\n",
       "      <th>estimated_gain</th>\n",
       "      <th>proxy_d_inc</th>\n",
       "      <th>proxy_d_anom</th>\n",
       "      <th>predicted_offset_angle</th>\n",
       "      <th>predicted_diam</th>\n",
       "      <th>predicted_gain</th>\n",
       "      <th>discos_diam</th>\n",
       "      <th>discos_avg_diam</th>\n",
       "      <th>discos_min_diam</th>\n",
       "      <th>discos_max_diam</th>\n",
       "    </tr>\n",
       "  </thead>\n",
       "  <tbody>\n",
       "    <tr>\n",
       "      <th>0</th>\n",
       "      <td>NaN</td>\n",
       "      <td>uhf_20211123_124611_800000</td>\n",
       "      <td>False</td>\n",
       "      <td>NaN</td>\n",
       "      <td>NaN</td>\n",
       "      <td>112769.699344</td>\n",
       "      <td>396176000.0</td>\n",
       "      <td>624402.0</td>\n",
       "      <td>0.302202</td>\n",
       "      <td>0.054385</td>\n",
       "      <td>...</td>\n",
       "      <td>45.799630</td>\n",
       "      <td>0.000281</td>\n",
       "      <td>-0.000102</td>\n",
       "      <td>NaN</td>\n",
       "      <td>NaN</td>\n",
       "      <td>NaN</td>\n",
       "      <td>NaN</td>\n",
       "      <td>NaN</td>\n",
       "      <td>NaN</td>\n",
       "      <td>NaN</td>\n",
       "    </tr>\n",
       "    <tr>\n",
       "      <th>1</th>\n",
       "      <td>NaN</td>\n",
       "      <td>uhf_20211123_124331_400000</td>\n",
       "      <td>False</td>\n",
       "      <td>NaN</td>\n",
       "      <td>NaN</td>\n",
       "      <td>15456.705625</td>\n",
       "      <td>483865000.0</td>\n",
       "      <td>693343.0</td>\n",
       "      <td>0.254209</td>\n",
       "      <td>0.042209</td>\n",
       "      <td>...</td>\n",
       "      <td>46.523134</td>\n",
       "      <td>-0.000362</td>\n",
       "      <td>0.000102</td>\n",
       "      <td>NaN</td>\n",
       "      <td>NaN</td>\n",
       "      <td>NaN</td>\n",
       "      <td>NaN</td>\n",
       "      <td>NaN</td>\n",
       "      <td>NaN</td>\n",
       "      <td>NaN</td>\n",
       "    </tr>\n",
       "    <tr>\n",
       "      <th>2</th>\n",
       "      <td>NaN</td>\n",
       "      <td>uhf_20211123_125021_000000</td>\n",
       "      <td>False</td>\n",
       "      <td>NaN</td>\n",
       "      <td>NaN</td>\n",
       "      <td>35240.675625</td>\n",
       "      <td>704812000.0</td>\n",
       "      <td>973043.0</td>\n",
       "      <td>0.427052</td>\n",
       "      <td>0.155181</td>\n",
       "      <td>...</td>\n",
       "      <td>42.980938</td>\n",
       "      <td>-0.000764</td>\n",
       "      <td>-0.000102</td>\n",
       "      <td>NaN</td>\n",
       "      <td>NaN</td>\n",
       "      <td>NaN</td>\n",
       "      <td>NaN</td>\n",
       "      <td>NaN</td>\n",
       "      <td>NaN</td>\n",
       "      <td>NaN</td>\n",
       "    </tr>\n",
       "    <tr>\n",
       "      <th>3</th>\n",
       "      <td>NaN</td>\n",
       "      <td>uhf_20211123_123828_600000</td>\n",
       "      <td>False</td>\n",
       "      <td>NaN</td>\n",
       "      <td>NaN</td>\n",
       "      <td>3356.464225</td>\n",
       "      <td>632562000.0</td>\n",
       "      <td>846981.0</td>\n",
       "      <td>0.431453</td>\n",
       "      <td>0.051986</td>\n",
       "      <td>...</td>\n",
       "      <td>42.820179</td>\n",
       "      <td>0.000683</td>\n",
       "      <td>-0.000102</td>\n",
       "      <td>NaN</td>\n",
       "      <td>NaN</td>\n",
       "      <td>NaN</td>\n",
       "      <td>NaN</td>\n",
       "      <td>NaN</td>\n",
       "      <td>NaN</td>\n",
       "      <td>NaN</td>\n",
       "    </tr>\n",
       "    <tr>\n",
       "      <th>4</th>\n",
       "      <td>NaN</td>\n",
       "      <td>uhf_20211123_121645_400000</td>\n",
       "      <td>False</td>\n",
       "      <td>NaN</td>\n",
       "      <td>NaN</td>\n",
       "      <td>121.440400</td>\n",
       "      <td>601084000.0</td>\n",
       "      <td>805617.0</td>\n",
       "      <td>1.319840</td>\n",
       "      <td>0.737887</td>\n",
       "      <td>...</td>\n",
       "      <td>22.513252</td>\n",
       "      <td>0.002050</td>\n",
       "      <td>0.000102</td>\n",
       "      <td>NaN</td>\n",
       "      <td>NaN</td>\n",
       "      <td>NaN</td>\n",
       "      <td>NaN</td>\n",
       "      <td>NaN</td>\n",
       "      <td>NaN</td>\n",
       "      <td>NaN</td>\n",
       "    </tr>\n",
       "    <tr>\n",
       "      <th>...</th>\n",
       "      <td>...</td>\n",
       "      <td>...</td>\n",
       "      <td>...</td>\n",
       "      <td>...</td>\n",
       "      <td>...</td>\n",
       "      <td>...</td>\n",
       "      <td>...</td>\n",
       "      <td>...</td>\n",
       "      <td>...</td>\n",
       "      <td>...</td>\n",
       "      <td>...</td>\n",
       "      <td>...</td>\n",
       "      <td>...</td>\n",
       "      <td>...</td>\n",
       "      <td>...</td>\n",
       "      <td>...</td>\n",
       "      <td>...</td>\n",
       "      <td>...</td>\n",
       "      <td>...</td>\n",
       "      <td>...</td>\n",
       "      <td>...</td>\n",
       "    </tr>\n",
       "    <tr>\n",
       "      <th>183</th>\n",
       "      <td>NaN</td>\n",
       "      <td>uhf_20211123_123921_000000</td>\n",
       "      <td>False</td>\n",
       "      <td>NaN</td>\n",
       "      <td>NaN</td>\n",
       "      <td>NaN</td>\n",
       "      <td>NaN</td>\n",
       "      <td>NaN</td>\n",
       "      <td>NaN</td>\n",
       "      <td>NaN</td>\n",
       "      <td>...</td>\n",
       "      <td>NaN</td>\n",
       "      <td>NaN</td>\n",
       "      <td>NaN</td>\n",
       "      <td>NaN</td>\n",
       "      <td>NaN</td>\n",
       "      <td>NaN</td>\n",
       "      <td>NaN</td>\n",
       "      <td>NaN</td>\n",
       "      <td>NaN</td>\n",
       "      <td>NaN</td>\n",
       "    </tr>\n",
       "    <tr>\n",
       "      <th>184</th>\n",
       "      <td>NaN</td>\n",
       "      <td>uhf_20211123_124409_800000</td>\n",
       "      <td>False</td>\n",
       "      <td>NaN</td>\n",
       "      <td>NaN</td>\n",
       "      <td>NaN</td>\n",
       "      <td>NaN</td>\n",
       "      <td>NaN</td>\n",
       "      <td>NaN</td>\n",
       "      <td>NaN</td>\n",
       "      <td>...</td>\n",
       "      <td>NaN</td>\n",
       "      <td>NaN</td>\n",
       "      <td>NaN</td>\n",
       "      <td>NaN</td>\n",
       "      <td>NaN</td>\n",
       "      <td>NaN</td>\n",
       "      <td>NaN</td>\n",
       "      <td>NaN</td>\n",
       "      <td>NaN</td>\n",
       "      <td>NaN</td>\n",
       "    </tr>\n",
       "    <tr>\n",
       "      <th>185</th>\n",
       "      <td>NaN</td>\n",
       "      <td>uhf_20211123_125354_200000</td>\n",
       "      <td>False</td>\n",
       "      <td>NaN</td>\n",
       "      <td>NaN</td>\n",
       "      <td>NaN</td>\n",
       "      <td>NaN</td>\n",
       "      <td>NaN</td>\n",
       "      <td>NaN</td>\n",
       "      <td>NaN</td>\n",
       "      <td>...</td>\n",
       "      <td>NaN</td>\n",
       "      <td>NaN</td>\n",
       "      <td>NaN</td>\n",
       "      <td>NaN</td>\n",
       "      <td>NaN</td>\n",
       "      <td>NaN</td>\n",
       "      <td>NaN</td>\n",
       "      <td>NaN</td>\n",
       "      <td>NaN</td>\n",
       "      <td>NaN</td>\n",
       "    </tr>\n",
       "    <tr>\n",
       "      <th>186</th>\n",
       "      <td>NaN</td>\n",
       "      <td>uhf_20211123_123928_200000</td>\n",
       "      <td>False</td>\n",
       "      <td>NaN</td>\n",
       "      <td>NaN</td>\n",
       "      <td>NaN</td>\n",
       "      <td>NaN</td>\n",
       "      <td>NaN</td>\n",
       "      <td>NaN</td>\n",
       "      <td>NaN</td>\n",
       "      <td>...</td>\n",
       "      <td>NaN</td>\n",
       "      <td>NaN</td>\n",
       "      <td>NaN</td>\n",
       "      <td>NaN</td>\n",
       "      <td>NaN</td>\n",
       "      <td>NaN</td>\n",
       "      <td>NaN</td>\n",
       "      <td>NaN</td>\n",
       "      <td>NaN</td>\n",
       "      <td>NaN</td>\n",
       "    </tr>\n",
       "    <tr>\n",
       "      <th>187</th>\n",
       "      <td>NaN</td>\n",
       "      <td>uhf_20211123_123954_600000</td>\n",
       "      <td>False</td>\n",
       "      <td>NaN</td>\n",
       "      <td>NaN</td>\n",
       "      <td>NaN</td>\n",
       "      <td>NaN</td>\n",
       "      <td>NaN</td>\n",
       "      <td>NaN</td>\n",
       "      <td>NaN</td>\n",
       "      <td>...</td>\n",
       "      <td>NaN</td>\n",
       "      <td>NaN</td>\n",
       "      <td>NaN</td>\n",
       "      <td>NaN</td>\n",
       "      <td>NaN</td>\n",
       "      <td>NaN</td>\n",
       "      <td>NaN</td>\n",
       "      <td>NaN</td>\n",
       "      <td>NaN</td>\n",
       "      <td>NaN</td>\n",
       "    </tr>\n",
       "  </tbody>\n",
       "</table>\n",
       "<p>188 rows × 22 columns</p>\n",
       "</div>"
      ],
      "text/plain": [
       "     measurnment_id                  event_name  correlated  object_id  \\\n",
       "0               NaN  uhf_20211123_124611_800000       False        NaN   \n",
       "1               NaN  uhf_20211123_124331_400000       False        NaN   \n",
       "2               NaN  uhf_20211123_125021_000000       False        NaN   \n",
       "3               NaN  uhf_20211123_123828_600000       False        NaN   \n",
       "4               NaN  uhf_20211123_121645_400000       False        NaN   \n",
       "..              ...                         ...         ...        ...   \n",
       "183             NaN  uhf_20211123_123921_000000       False        NaN   \n",
       "184             NaN  uhf_20211123_124409_800000       False        NaN   \n",
       "185             NaN  uhf_20211123_125354_200000       False        NaN   \n",
       "186             NaN  uhf_20211123_123928_200000       False        NaN   \n",
       "187             NaN  uhf_20211123_123954_600000       False        NaN   \n",
       "\n",
       "     norad_id            SNR        range   doppler  estimated_offset_angle  \\\n",
       "0         NaN  112769.699344  396176000.0  624402.0                0.302202   \n",
       "1         NaN   15456.705625  483865000.0  693343.0                0.254209   \n",
       "2         NaN   35240.675625  704812000.0  973043.0                0.427052   \n",
       "3         NaN    3356.464225  632562000.0  846981.0                0.431453   \n",
       "4         NaN     121.440400  601084000.0  805617.0                1.319840   \n",
       "..        ...            ...          ...       ...                     ...   \n",
       "183       NaN            NaN          NaN       NaN                     NaN   \n",
       "184       NaN            NaN          NaN       NaN                     NaN   \n",
       "185       NaN            NaN          NaN       NaN                     NaN   \n",
       "186       NaN            NaN          NaN       NaN                     NaN   \n",
       "187       NaN            NaN          NaN       NaN                     NaN   \n",
       "\n",
       "     estimated_diam  ...  estimated_gain  proxy_d_inc  proxy_d_anom  \\\n",
       "0          0.054385  ...       45.799630     0.000281     -0.000102   \n",
       "1          0.042209  ...       46.523134    -0.000362      0.000102   \n",
       "2          0.155181  ...       42.980938    -0.000764     -0.000102   \n",
       "3          0.051986  ...       42.820179     0.000683     -0.000102   \n",
       "4          0.737887  ...       22.513252     0.002050      0.000102   \n",
       "..              ...  ...             ...          ...           ...   \n",
       "183             NaN  ...             NaN          NaN           NaN   \n",
       "184             NaN  ...             NaN          NaN           NaN   \n",
       "185             NaN  ...             NaN          NaN           NaN   \n",
       "186             NaN  ...             NaN          NaN           NaN   \n",
       "187             NaN  ...             NaN          NaN           NaN   \n",
       "\n",
       "     predicted_offset_angle  predicted_diam  predicted_gain  discos_diam  \\\n",
       "0                       NaN             NaN             NaN          NaN   \n",
       "1                       NaN             NaN             NaN          NaN   \n",
       "2                       NaN             NaN             NaN          NaN   \n",
       "3                       NaN             NaN             NaN          NaN   \n",
       "4                       NaN             NaN             NaN          NaN   \n",
       "..                      ...             ...             ...          ...   \n",
       "183                     NaN             NaN             NaN          NaN   \n",
       "184                     NaN             NaN             NaN          NaN   \n",
       "185                     NaN             NaN             NaN          NaN   \n",
       "186                     NaN             NaN             NaN          NaN   \n",
       "187                     NaN             NaN             NaN          NaN   \n",
       "\n",
       "     discos_avg_diam  discos_min_diam  discos_max_diam  \n",
       "0                NaN              NaN              NaN  \n",
       "1                NaN              NaN              NaN  \n",
       "2                NaN              NaN              NaN  \n",
       "3                NaN              NaN              NaN  \n",
       "4                NaN              NaN              NaN  \n",
       "..               ...              ...              ...  \n",
       "183              NaN              NaN              NaN  \n",
       "184              NaN              NaN              NaN  \n",
       "185              NaN              NaN              NaN  \n",
       "186              NaN              NaN              NaN  \n",
       "187              NaN              NaN              NaN  \n",
       "\n",
       "[188 rows x 22 columns]"
      ]
     },
     "execution_count": 21,
     "metadata": {},
     "output_type": "execute_result"
    }
   ],
   "source": [
    "df"
   ]
  },
  {
   "cell_type": "code",
   "execution_count": 22,
   "id": "a0e2b325",
   "metadata": {},
   "outputs": [
    {
     "data": {
      "text/plain": [
       "(array([55., 19., 31., 16.,  0.,  7.,  0.,  0., 16.,  3.]),\n",
       " array([0.03492366, 0.45060581, 0.86628796, 1.28197011, 1.69765226,\n",
       "        2.11333442, 2.52901657, 2.94469872, 3.36038087, 3.77606302,\n",
       "        4.19174517]),\n",
       " <BarContainer object of 10 artists>)"
      ]
     },
     "execution_count": 22,
     "metadata": {},
     "output_type": "execute_result"
    },
    {
     "data": {
      "image/png": "[encoded data removed]",
      "text/plain": [
       "<Figure size 432x288 with 1 Axes>"
      ]
     },
     "metadata": {
      "needs_background": "dark"
     },
     "output_type": "display_data"
    }
   ],
   "source": [
    "plt.hist(df['estimated_offset_angle'])"
   ]
  },
  {
   "cell_type": "code",
   "execution_count": 24,
   "id": "05177a32",
   "metadata": {},
   "outputs": [
    {
     "data": {
      "text/plain": [
       "(array([27., 32., 16., 16., 16., 18., 13.,  3.,  4.,  2.]),\n",
       " array([0.32993757, 0.65552651, 0.98111544, 1.30670438, 1.63229332,\n",
       "        1.95788226, 2.2834712 , 2.60906013, 2.93464907, 3.26023801,\n",
       "        3.58582695]),\n",
       " <BarContainer object of 10 artists>)"
      ]
     },
     "execution_count": 24,
     "metadata": {},
     "output_type": "execute_result"
    },
    {
     "data": {
      "image/png": "[encoded data removed]",
      "text/plain": [
       "<Figure size 432x288 with 1 Axes>"
      ]
     },
     "metadata": {
      "needs_background": "dark"
     },
     "output_type": "display_data"
    }
   ],
   "source": [
    "plt.hist(np.log10(df['estimated_diam']*1e2))"
   ]
  },
  {
   "cell_type": "code",
   "execution_count": 25,
   "id": "2d0e9bfa",
   "metadata": {},
   "outputs": [
    {
     "data": {
      "text/plain": [
       "(array([3., 3., 3., 5., 7., 1., 3., 0., 2., 1.]),\n",
       " array([0.53106111, 0.86832341, 1.20558572, 1.54284802, 1.88011033,\n",
       "        2.21737263, 2.55463493, 2.89189724, 3.22915954, 3.56642185,\n",
       "        3.90368415]),\n",
       " <BarContainer object of 10 artists>)"
      ]
     },
     "execution_count": 25,
     "metadata": {},
     "output_type": "execute_result"
    },
    {
     "data": {
      "image/png": "[encoded data removed]",
      "text/plain": [
       "<Figure size 432x288 with 1 Axes>"
      ]
     },
     "metadata": {
      "needs_background": "dark"
     },
     "output_type": "display_data"
    }
   ],
   "source": [
    "plt.hist(np.log10(df['predicted_diam']*1e2))"
   ]
  },
  {
   "cell_type": "code",
   "execution_count": 26,
   "id": "b52ad4a3",
   "metadata": {},
   "outputs": [
    {
     "data": {
      "text/plain": [
       "(array([28.,  0.,  0.,  1.,  0.,  0.,  1.,  0.,  0.,  1.]),\n",
       " array([ 0.08729576,  6.38215977, 12.67702379, 18.97188781, 25.26675182,\n",
       "        31.56161584, 37.85647985, 44.15134387, 50.44620789, 56.7410719 ,\n",
       "        63.03593592]),\n",
       " <BarContainer object of 10 artists>)"
      ]
     },
     "execution_count": 26,
     "metadata": {},
     "output_type": "execute_result"
    },
    {
     "data": {
      "image/png": "[encoded data removed]",
      "text/plain": [
       "<Figure size 432x288 with 1 Axes>"
      ]
     },
     "metadata": {
      "needs_background": "dark"
     },
     "output_type": "display_data"
    }
   ],
   "source": [
    "plt.hist(df['predicted_offset_angle'])"
   ]
  },
  {
   "cell_type": "code",
   "execution_count": 27,
   "id": "4b362f07",
   "metadata": {},
   "outputs": [
    {
     "data": {
      "text/plain": [
       "(array([ 1.,  0.,  0.,  1.,  1.,  0., 22.,  2.,  0.,  1.]),\n",
       " array([-7933.57305445, -6767.60017204, -5601.62728962, -4435.65440721,\n",
       "        -3269.6815248 , -2103.70864238,  -937.73575997,   228.23712244,\n",
       "         1394.21000486,  2560.18288727,  3726.15576968]),\n",
       " <BarContainer object of 10 artists>)"
      ]
     },
     "execution_count": 27,
     "metadata": {},
     "output_type": "execute_result"
    },
    {
     "data": {
      "image/png": "[encoded data removed]",
      "text/plain": [
       "<Figure size 432x288 with 1 Axes>"
      ]
     },
     "metadata": {
      "needs_background": "dark"
     },
     "output_type": "display_data"
    }
   ],
   "source": [
    "plt.hist((df['estimated_diam'] - df['predicted_diam'])*1e2)"
   ]
  },
  {
   "cell_type": "code",
   "execution_count": 28,
   "id": "e1781520",
   "metadata": {},
   "outputs": [
    {
     "data": {
      "text/plain": [
       "(array([1., 0., 0., 0., 0., 0., 0., 0., 0., 1.]),\n",
       " array([18.46635043, 22.59570231, 26.72505419, 30.85440607, 34.98375796,\n",
       "        39.11310984, 43.24246172, 47.37181361, 51.50116549, 55.63051737,\n",
       "        59.75986925]),\n",
       " <BarContainer object of 10 artists>)"
      ]
     },
     "execution_count": 28,
     "metadata": {},
     "output_type": "execute_result"
    },
    {
     "data": {
      "image/png": "[encoded data removed]",
      "text/plain": [
       "<Figure size 432x288 with 1 Axes>"
      ]
     },
     "metadata": {
      "needs_background": "dark"
     },
     "output_type": "display_data"
    }
   ],
   "source": [
    "plt.hist((df['estimated_diam'] - df['discos_avg_diam'])*1e2)"
   ]
  },
  {
   "cell_type": "code",
   "execution_count": null,
   "id": "cd57cdd8",
   "metadata": {},
   "outputs": [],
   "source": []
  }
 ],
 "metadata": {
  "kernelspec": {
   "display_name": "Python 3 (ipykernel)",
   "language": "python",
   "name": "python3"
  },
  "language_info": {
   "codemirror_mode": {
    "name": "ipython",
    "version": 3
   },
   "file_extension": ".py",
   "mimetype": "text/x-python",
   "name": "python",
   "nbconvert_exporter": "python",
   "pygments_lexer": "ipython3",
   "version": "3.9.7"
  }
 },
 "nbformat": 4,
 "nbformat_minor": 5
}
